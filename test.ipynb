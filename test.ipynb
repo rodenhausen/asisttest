{
 "cells": [
  {
   "cell_type": "code",
   "execution_count": 13,
   "metadata": {
    "collapsed": false
   },
   "outputs": [
    {
     "data": {
      "text/plain": [
       "Tap: suspicious_austin (Invalid tap: underspecified)\n"
      ]
     },
     "execution_count": 13,
     "metadata": {},
     "output_type": "execute_result"
    }
   ],
   "source": [
    "load tap birds.txt"
   ]
  },
  {
   "cell_type": "code",
   "execution_count": 14,
   "metadata": {
    "collapsed": false
   },
   "outputs": [
    {
     "data": {
      "text/plain": [
       "Coverage:True\n",
       "Sibling Disjontness:True\n",
       "Regions:mnpw\n",
       "\n",
       "taxonomy 2015 Prum\n",
       "(Aves Gall_Neoa_Clade Palaeognathae)\n",
       "(Gall_Neoa_Clade Galloanserae Neoaves)\n",
       "\n",
       "taxonomy 2014 Jarvis\n",
       "(Aves Neognathae Paleognathae)\n",
       "(Paleognathae Struthioniformes Tinamiformes)\n",
       "\n",
       "articulation\n"
      ]
     },
     "execution_count": 14,
     "metadata": {},
     "output_type": "execute_result"
    }
   ],
   "source": [
    "print tap"
   ]
  },
  {
   "cell_type": "code",
   "execution_count": 15,
   "metadata": {
    "collapsed": false
   },
   "outputs": [
    {
     "data": {
      "text/plain": [
       "Tap: trusting_bohr\n"
      ]
     },
     "execution_count": 15,
     "metadata": {},
     "output_type": "execute_result"
    }
   ],
   "source": [
    "add articulation 2015.Galloanserae equals 2014.Struthioniformes"
   ]
  },
  {
   "cell_type": "code",
   "execution_count": 16,
   "metadata": {
    "collapsed": false
   },
   "outputs": [
    {
     "data": {
      "text/plain": [
       "There are more than 10 worlds. The tap is ambiguous."
      ]
     },
     "execution_count": 16,
     "metadata": {},
     "output_type": "execute_result"
    }
   ],
   "source": [
    "more than 10 worlds"
   ]
  },
  {
   "cell_type": "code",
   "execution_count": 17,
   "metadata": {
    "collapsed": false
   },
   "outputs": [
    {
     "data": {
      "text/plain": [
       "Tap: heuristic_jennings\n"
      ]
     },
     "execution_count": 17,
     "metadata": {},
     "output_type": "execute_result"
    }
   ],
   "source": [
    "add articulation 2015.Neoaves equals 2014.Tinamiformes"
   ]
  },
  {
   "cell_type": "code",
   "execution_count": 18,
   "metadata": {
    "collapsed": false
   },
   "outputs": [
    {
     "data": {
      "text/plain": [
       "There are less than or equal to 10 worlds. In fact, there are 5. The tap is ambiguous."
      ]
     },
     "execution_count": 18,
     "metadata": {},
     "output_type": "execute_result"
    }
   ],
   "source": [
    "more than 10 worlds"
   ]
  },
  {
   "cell_type": "code",
   "execution_count": 19,
   "metadata": {
    "collapsed": false
   },
   "outputs": [
    {
     "data": {
      "text/plain": [
       "5 worlds have been produced.\n",
       "\n",
       "1. World\n",
       "2015.Neoaves disjoint 2014.Neognathae\n",
       "2015.Gall_Neoa_Clade disjoint 2014.Neognathae\n",
       "2015.Palaeognathae disjoint 2014.Struthioniformes\n",
       "2015.Palaeognathae disjoint 2014.Tinamiformes\n",
       "2015.Palaeognathae disjoint 2014.Paleognathae\n",
       "2015.Neoaves disjoint 2014.Struthioniformes\n",
       "2015.Galloanserae disjoint 2014.Neognathae\n",
       "2015.Galloanserae disjoint 2014.Tinamiformes\n",
       "2015.Aves overlaps 2014.Neognathae\n",
       "2015.Gall_Neoa_Clade includes 2014.Struthioniformes\n",
       "2015.Gall_Neoa_Clade includes 2014.Tinamiformes\n",
       "2015.Aves includes 2014.Paleognathae\n",
       "2015.Aves includes 2014.Tinamiformes\n",
       "2015.Aves includes 2014.Struthioniformes\n",
       "2015.Gall_Neoa_Clade is_included_in 2014.Aves\n",
       "2015.Palaeognathae is_included_in 2014.Neognathae\n",
       "2015.Aves is_included_in 2014.Aves\n",
       "2015.Neoaves is_included_in 2014.Paleognathae\n",
       "2015.Galloanserae is_included_in 2014.Aves\n",
       "2015.Galloanserae is_included_in 2014.Paleognathae\n",
       "2015.Palaeognathae is_included_in 2014.Aves\n",
       "2015.Neoaves is_included_in 2014.Aves\n",
       "2015.Gall_Neoa_Clade equals 2014.Paleognathae\n",
       "2015.Neoaves equals 2014.Tinamiformes\n",
       "2015.Galloanserae equals 2014.Struthioniformes\n",
       "\n",
       "2. World\n",
       "2015.Neoaves disjoint 2014.Neognathae\n",
       "2015.Gall_Neoa_Clade disjoint 2014.Neognathae\n",
       "2015.Palaeognathae disjoint 2014.Struthioniformes\n",
       "2015.Palaeognathae disjoint 2014.Tinamiformes\n",
       "2015.Palaeognathae disjoint 2014.Paleognathae\n",
       "2015.Neoaves disjoint 2014.Struthioniformes\n",
       "2015.Galloanserae disjoint 2014.Neognathae\n",
       "2015.Galloanserae disjoint 2014.Tinamiformes\n",
       "2015.Gall_Neoa_Clade includes 2014.Struthioniformes\n",
       "2015.Gall_Neoa_Clade includes 2014.Tinamiformes\n",
       "2015.Aves includes 2014.Paleognathae\n",
       "2015.Aves includes 2014.Neognathae\n",
       "2015.Aves includes 2014.Tinamiformes\n",
       "2015.Aves includes 2014.Struthioniformes\n",
       "2015.Gall_Neoa_Clade is_included_in 2014.Aves\n",
       "2015.Neoaves is_included_in 2014.Paleognathae\n",
       "2015.Galloanserae is_included_in 2014.Aves\n",
       "2015.Galloanserae is_included_in 2014.Paleognathae\n",
       "2015.Palaeognathae is_included_in 2014.Aves\n",
       "2015.Neoaves is_included_in 2014.Aves\n",
       "2015.Gall_Neoa_Clade equals 2014.Paleognathae\n",
       "2015.Palaeognathae equals 2014.Neognathae\n",
       "2015.Aves equals 2014.Aves\n",
       "2015.Neoaves equals 2014.Tinamiformes\n",
       "2015.Galloanserae equals 2014.Struthioniformes\n",
       "\n",
       "3. World\n",
       "2015.Neoaves disjoint 2014.Neognathae\n",
       "2015.Gall_Neoa_Clade disjoint 2014.Neognathae\n",
       "2015.Palaeognathae disjoint 2014.Struthioniformes\n",
       "2015.Palaeognathae disjoint 2014.Tinamiformes\n",
       "2015.Palaeognathae disjoint 2014.Paleognathae\n",
       "2015.Neoaves disjoint 2014.Struthioniformes\n",
       "2015.Galloanserae disjoint 2014.Neognathae\n",
       "2015.Galloanserae disjoint 2014.Tinamiformes\n",
       "2015.Palaeognathae overlaps 2014.Neognathae\n",
       "2015.Aves overlaps 2014.Neognathae\n",
       "2015.Aves overlaps 2014.Aves\n",
       "2015.Palaeognathae overlaps 2014.Aves\n",
       "2015.Gall_Neoa_Clade includes 2014.Struthioniformes\n",
       "2015.Gall_Neoa_Clade includes 2014.Tinamiformes\n",
       "2015.Aves includes 2014.Paleognathae\n",
       "2015.Aves includes 2014.Tinamiformes\n",
       "2015.Aves includes 2014.Struthioniformes\n",
       "2015.Gall_Neoa_Clade is_included_in 2014.Aves\n",
       "2015.Neoaves is_included_in 2014.Paleognathae\n",
       "2015.Galloanserae is_included_in 2014.Aves\n",
       "2015.Galloanserae is_included_in 2014.Paleognathae\n",
       "2015.Neoaves is_included_in 2014.Aves\n",
       "2015.Gall_Neoa_Clade equals 2014.Paleognathae\n",
       "2015.Neoaves equals 2014.Tinamiformes\n",
       "2015.Galloanserae equals 2014.Struthioniformes\n",
       "\n",
       "4. World\n",
       "2015.Neoaves disjoint 2014.Neognathae\n",
       "2015.Gall_Neoa_Clade disjoint 2014.Neognathae\n",
       "2015.Palaeognathae disjoint 2014.Struthioniformes\n",
       "2015.Palaeognathae disjoint 2014.Tinamiformes\n",
       "2015.Palaeognathae disjoint 2014.Paleognathae\n",
       "2015.Neoaves disjoint 2014.Struthioniformes\n",
       "2015.Galloanserae disjoint 2014.Neognathae\n",
       "2015.Galloanserae disjoint 2014.Tinamiformes\n",
       "2015.Palaeognathae overlaps 2014.Aves\n",
       "2015.Gall_Neoa_Clade includes 2014.Struthioniformes\n",
       "2015.Gall_Neoa_Clade includes 2014.Tinamiformes\n",
       "2015.Palaeognathae includes 2014.Neognathae\n",
       "2015.Aves includes 2014.Paleognathae\n",
       "2015.Aves includes 2014.Neognathae\n",
       "2015.Aves includes 2014.Aves\n",
       "2015.Aves includes 2014.Tinamiformes\n",
       "2015.Aves includes 2014.Struthioniformes\n",
       "2015.Gall_Neoa_Clade is_included_in 2014.Aves\n",
       "2015.Neoaves is_included_in 2014.Paleognathae\n",
       "2015.Galloanserae is_included_in 2014.Aves\n",
       "2015.Galloanserae is_included_in 2014.Paleognathae\n",
       "2015.Neoaves is_included_in 2014.Aves\n",
       "2015.Gall_Neoa_Clade equals 2014.Paleognathae\n",
       "2015.Neoaves equals 2014.Tinamiformes\n",
       "2015.Galloanserae equals 2014.Struthioniformes\n",
       "\n",
       "5. World\n",
       "2015.Neoaves disjoint 2014.Neognathae\n",
       "2015.Gall_Neoa_Clade disjoint 2014.Neognathae\n",
       "2015.Palaeognathae disjoint 2014.Struthioniformes\n",
       "2015.Palaeognathae disjoint 2014.Tinamiformes\n",
       "2015.Palaeognathae disjoint 2014.Paleognathae\n",
       "2015.Palaeognathae disjoint 2014.Neognathae\n",
       "2015.Aves disjoint 2014.Neognathae\n",
       "2015.Neoaves disjoint 2014.Struthioniformes\n",
       "2015.Galloanserae disjoint 2014.Neognathae\n",
       "2015.Galloanserae disjoint 2014.Tinamiformes\n",
       "2015.Palaeognathae disjoint 2014.Aves\n",
       "2015.Aves overlaps 2014.Aves\n",
       "2015.Gall_Neoa_Clade includes 2014.Struthioniformes\n",
       "2015.Gall_Neoa_Clade includes 2014.Tinamiformes\n",
       "2015.Aves includes 2014.Paleognathae\n",
       "2015.Aves includes 2014.Tinamiformes\n",
       "2015.Aves includes 2014.Struthioniformes\n",
       "2015.Gall_Neoa_Clade is_included_in 2014.Aves\n",
       "2015.Neoaves is_included_in 2014.Paleognathae\n",
       "2015.Galloanserae is_included_in 2014.Aves\n",
       "2015.Galloanserae is_included_in 2014.Paleognathae\n",
       "2015.Neoaves is_included_in 2014.Aves\n",
       "2015.Gall_Neoa_Clade equals 2014.Paleognathae\n",
       "2015.Neoaves equals 2014.Tinamiformes\n",
       "2015.Galloanserae equals 2014.Struthioniformes"
      ]
     },
     "execution_count": 19,
     "metadata": {},
     "output_type": "execute_result"
    }
   ],
   "source": [
    "print worlds"
   ]
  },
  {
   "cell_type": "code",
   "execution_count": 20,
   "metadata": {
    "collapsed": false
   },
   "outputs": [
    {
     "data": {
      "text/plain": [
       "5 worlds have been produced."
      ]
     },
     "execution_count": 20,
     "metadata": {},
     "output_type": "execute_result"
    },
    {
     "data": {
      "image/svg+xml": [
       "<?xml version=\"1.0\" encoding=\"UTF-8\" standalone=\"no\"?>\n",
       "<!DOCTYPE svg PUBLIC \"-//W3C//DTD SVG 1.1//EN\"\n",
       " \"http://www.w3.org/Graphics/SVG/1.1/DTD/svg11.dtd\">\n",
       "<!-- Generated by graphviz version 2.38.0 (20140413.2041)\n",
       " -->\n",
       "<!-- Title: %3 Pages: 1 -->\n",
       "<svg width=\"772pt\" height=\"208pt\"\n",
       " viewBox=\"0.00 0.00 772.11 208.00\" xmlns=\"http://www.w3.org/2000/svg\" xmlns:xlink=\"http://www.w3.org/1999/xlink\">\n",
       "<g id=\"graph0\" class=\"graph\" transform=\"scale(1 1) rotate(0) translate(4 204)\">\n",
       "<title>%3</title>\n",
       "<polygon fill=\"white\" stroke=\"none\" points=\"-4,4 -4,-204 768.106,-204 768.106,4 -4,4\"/>\n",
       "<!-- 2015.Palaeognathae -->\n",
       "<g id=\"node1\" class=\"node\"><title>2015.Palaeognathae</title>\n",
       "<polygon fill=\"#ccffcc\" stroke=\"black\" points=\"469.606,-91 344.606,-91 344.606,-55 469.606,-55 469.606,-91\"/>\n",
       "<text text-anchor=\"middle\" x=\"407.106\" y=\"-69.3\" font-family=\"Times,serif\" font-size=\"14.00\">2015.Palaeognathae</text>\n",
       "</g>\n",
       "<!-- 2015.Aves -->\n",
       "<g id=\"node2\" class=\"node\"><title>2015.Aves</title>\n",
       "<polygon fill=\"#ccffcc\" stroke=\"black\" points=\"257.815,-145 182.815,-145 182.815,-109 257.815,-109 257.815,-145\"/>\n",
       "<text text-anchor=\"middle\" x=\"220.315\" y=\"-123.3\" font-family=\"Times,serif\" font-size=\"14.00\">2015.Aves</text>\n",
       "</g>\n",
       "<!-- 2015.Palaeognathae&#45;&gt;2015.Aves -->\n",
       "<g id=\"edge5\" class=\"edge\"><title>2015.Palaeognathae&#45;&gt;2015.Aves</title>\n",
       "<path fill=\"none\" stroke=\"#000000\" d=\"M344.573,-90.9812C319.493,-98.3101 290.986,-106.641 267.708,-113.443\"/>\n",
       "<polygon fill=\"#000000\" stroke=\"#000000\" points=\"266.694,-110.093 258.078,-116.257 268.658,-116.812 266.694,-110.093\"/>\n",
       "</g>\n",
       "<!-- 2014.Neognathae -->\n",
       "<g id=\"node4\" class=\"node\"><title>2014.Neognathae</title>\n",
       "<polygon fill=\"#ffffcc\" stroke=\"black\" points=\"298.898,-65.5442 298.898,-80.4558 252.865,-91 187.765,-91 141.732,-80.4558 141.732,-65.5442 187.765,-55 252.865,-55 298.898,-65.5442\"/>\n",
       "<text text-anchor=\"middle\" x=\"220.315\" y=\"-69.3\" font-family=\"Times,serif\" font-size=\"14.00\">2014.Neognathae</text>\n",
       "</g>\n",
       "<!-- 2015.Palaeognathae&#45;&gt;2014.Neognathae -->\n",
       "<g id=\"edge7\" class=\"edge\"><title>2015.Palaeognathae&#45;&gt;2014.Neognathae</title>\n",
       "<path fill=\"none\" stroke=\"#ff0000\" d=\"M344.573,-73C333.172,-73 321.062,-73 309.057,-73\"/>\n",
       "<polygon fill=\"#ff0000\" stroke=\"#ff0000\" points=\"309.016,-69.5001 299.016,-73 309.016,-76.5001 309.016,-69.5001\"/>\n",
       "</g>\n",
       "<!-- 2014.Aves -->\n",
       "<g id=\"node3\" class=\"node\"><title>2014.Aves</title>\n",
       "<polygon fill=\"#ffffcc\" stroke=\"black\" points=\"105.287,-92.5442 105.287,-107.456 74.5185,-118 31.0054,-118 0.236993,-107.456 0.236993,-92.5442 31.0054,-82 74.5185,-82 105.287,-92.5442\"/>\n",
       "<text text-anchor=\"middle\" x=\"52.7619\" y=\"-96.3\" font-family=\"Times,serif\" font-size=\"14.00\">2014.Aves</text>\n",
       "</g>\n",
       "<!-- 2015.Aves&#45;&gt;2014.Aves -->\n",
       "<g id=\"edge8\" class=\"edge\"><title>2015.Aves&#45;&gt;2014.Aves</title>\n",
       "<path fill=\"none\" stroke=\"#ff0000\" d=\"M182.573,-121.008C162.326,-117.706 136.691,-113.525 113.63,-109.764\"/>\n",
       "<polygon fill=\"#ff0000\" stroke=\"#ff0000\" points=\"114.021,-106.281 103.588,-108.126 112.894,-113.19 114.021,-106.281\"/>\n",
       "</g>\n",
       "<!-- 2015.Aves&#45;&gt;2014.Neognathae -->\n",
       "<g id=\"edge1\" class=\"edge\"><title>2015.Aves&#45;&gt;2014.Neognathae</title>\n",
       "<path fill=\"none\" stroke=\"#0000ff\" stroke-dasharray=\"1,5\" d=\"M220.315,-108.79C220.315,-102.907 220.315,-97.0238 220.315,-91.1406\"/>\n",
       "</g>\n",
       "<!-- 2014.Neognathae&#45;&gt;2014.Aves -->\n",
       "<g id=\"edge6\" class=\"edge\"><title>2014.Neognathae&#45;&gt;2014.Aves</title>\n",
       "<path fill=\"none\" stroke=\"#000000\" d=\"M154.834,-83.5162C141.232,-85.7345 126.937,-88.0659 113.519,-90.2543\"/>\n",
       "<polygon fill=\"#000000\" stroke=\"#000000\" points=\"112.761,-86.8316 103.454,-91.8957 113.887,-93.7403 112.761,-86.8316\"/>\n",
       "</g>\n",
       "<!-- 2015.Gall_Neoa_Clade\\n2014.Paleognathae -->\n",
       "<g id=\"node5\" class=\"node\"><title>2015.Gall_Neoa_Clade\\n2014.Paleognathae</title>\n",
       "<path fill=\"#eeeeee\" stroke=\"black\" d=\"M467.106,-147C467.106,-147 347.106,-147 347.106,-147 341.106,-147 335.106,-141 335.106,-135 335.106,-135 335.106,-121 335.106,-121 335.106,-115 341.106,-109 347.106,-109 347.106,-109 467.106,-109 467.106,-109 473.106,-109 479.106,-115 479.106,-121 479.106,-121 479.106,-135 479.106,-135 479.106,-141 473.106,-147 467.106,-147\"/>\n",
       "<text text-anchor=\"middle\" x=\"407.106\" y=\"-131.8\" font-family=\"Times,serif\" font-size=\"14.00\">2015.Gall_Neoa_Clade</text>\n",
       "<text text-anchor=\"middle\" x=\"407.106\" y=\"-116.8\" font-family=\"Times,serif\" font-size=\"14.00\">2014.Paleognathae</text>\n",
       "</g>\n",
       "<!-- 2015.Gall_Neoa_Clade\\n2014.Paleognathae&#45;&gt;2015.Aves -->\n",
       "<g id=\"edge2\" class=\"edge\"><title>2015.Gall_Neoa_Clade\\n2014.Paleognathae&#45;&gt;2015.Aves</title>\n",
       "<path fill=\"none\" stroke=\"#000000\" d=\"M334.925,-127.615C312.501,-127.493 288.314,-127.363 268.045,-127.253\"/>\n",
       "<polygon fill=\"#000000\" stroke=\"#000000\" points=\"267.851,-123.752 257.832,-127.198 267.813,-130.752 267.851,-123.752\"/>\n",
       "</g>\n",
       "<!-- 2015.Neoaves\\n2014.Tinamiformes -->\n",
       "<g id=\"node6\" class=\"node\"><title>2015.Neoaves\\n2014.Tinamiformes</title>\n",
       "<path fill=\"#eeeeee\" stroke=\"black\" d=\"M635.606,-175C635.606,-175 534.606,-175 534.606,-175 528.606,-175 522.606,-169 522.606,-163 522.606,-163 522.606,-149 522.606,-149 522.606,-143 528.606,-137 534.606,-137 534.606,-137 635.606,-137 635.606,-137 641.606,-137 647.606,-143 647.606,-149 647.606,-149 647.606,-163 647.606,-163 647.606,-169 641.606,-175 635.606,-175\"/>\n",
       "<text text-anchor=\"middle\" x=\"585.106\" y=\"-159.8\" font-family=\"Times,serif\" font-size=\"14.00\">2015.Neoaves</text>\n",
       "<text text-anchor=\"middle\" x=\"585.106\" y=\"-144.8\" font-family=\"Times,serif\" font-size=\"14.00\">2014.Tinamiformes</text>\n",
       "</g>\n",
       "<!-- 2015.Neoaves\\n2014.Tinamiformes&#45;&gt;2015.Gall_Neoa_Clade\\n2014.Paleognathae -->\n",
       "<g id=\"edge3\" class=\"edge\"><title>2015.Neoaves\\n2014.Tinamiformes&#45;&gt;2015.Gall_Neoa_Clade\\n2014.Paleognathae</title>\n",
       "<path fill=\"none\" stroke=\"#000000\" d=\"M522.55,-146.207C511.849,-144.505 500.573,-142.711 489.439,-140.939\"/>\n",
       "<polygon fill=\"#000000\" stroke=\"#000000\" points=\"489.702,-137.437 479.276,-139.322 488.602,-144.35 489.702,-137.437\"/>\n",
       "</g>\n",
       "<!-- 2015.Galloanserae\\n2014.Struthioniformes -->\n",
       "<g id=\"node7\" class=\"node\"><title>2015.Galloanserae\\n2014.Struthioniformes</title>\n",
       "<path fill=\"#eeeeee\" stroke=\"black\" d=\"M643.106,-119C643.106,-119 527.106,-119 527.106,-119 521.106,-119 515.106,-113 515.106,-107 515.106,-107 515.106,-93 515.106,-93 515.106,-87 521.106,-81 527.106,-81 527.106,-81 643.106,-81 643.106,-81 649.106,-81 655.106,-87 655.106,-93 655.106,-93 655.106,-107 655.106,-107 655.106,-113 649.106,-119 643.106,-119\"/>\n",
       "<text text-anchor=\"middle\" x=\"585.106\" y=\"-103.8\" font-family=\"Times,serif\" font-size=\"14.00\">2015.Galloanserae</text>\n",
       "<text text-anchor=\"middle\" x=\"585.106\" y=\"-88.8\" font-family=\"Times,serif\" font-size=\"14.00\">2014.Struthioniformes</text>\n",
       "</g>\n",
       "<!-- 2015.Galloanserae\\n2014.Struthioniformes&#45;&gt;2015.Gall_Neoa_Clade\\n2014.Paleognathae -->\n",
       "<g id=\"edge4\" class=\"edge\"><title>2015.Galloanserae\\n2014.Struthioniformes&#45;&gt;2015.Gall_Neoa_Clade\\n2014.Paleognathae</title>\n",
       "<path fill=\"none\" stroke=\"#000000\" d=\"M515.051,-110.986C506.607,-112.329 497.918,-113.712 489.316,-115.08\"/>\n",
       "<polygon fill=\"#000000\" stroke=\"#000000\" points=\"488.604,-111.649 479.278,-116.677 489.704,-118.563 488.604,-111.649\"/>\n",
       "</g>\n",
       "<!-- Legend -->\n",
       "<g id=\"node8\" class=\"node\"><title>Legend</title>\n",
       "<path fill=\"white\" stroke=\"black\" d=\"M752.106,-200C752.106,-200 703.106,-200 703.106,-200 697.106,-200 691.106,-194 691.106,-188 691.106,-188 691.106,-12 691.106,-12 691.106,-6 697.106,-0 703.106,-0 703.106,-0 752.106,-0 752.106,-0 758.106,-0 764.106,-6 764.106,-12 764.106,-12 764.106,-188 764.106,-188 764.106,-194 758.106,-200 752.106,-200\"/>\n",
       "<polygon fill=\"none\" stroke=\"black\" points=\"691.606,-175 691.606,-200 764.606,-200 764.606,-175 691.606,-175\"/>\n",
       "<text text-anchor=\"start\" x=\"705.106\" y=\"-183.8\" font-family=\"Arial Black\" font-size=\"14.00\"> Nodes</text>\n",
       "<polygon fill=\"#ccffcc\" stroke=\"none\" points=\"691.606,-150 691.606,-175 747.606,-175 747.606,-150 691.606,-150\"/>\n",
       "<polygon fill=\"none\" stroke=\"black\" points=\"691.606,-150 691.606,-175 747.606,-175 747.606,-150 691.606,-150\"/>\n",
       "<text text-anchor=\"start\" x=\"705.606\" y=\"-158.8\" font-family=\"Times,serif\" font-size=\"14.00\">2015</text>\n",
       "<polygon fill=\"none\" stroke=\"black\" points=\"747.606,-150 747.606,-175 764.606,-175 764.606,-150 747.606,-150\"/>\n",
       "<text text-anchor=\"start\" x=\"752.606\" y=\"-158.8\" font-family=\"Times,serif\" font-size=\"14.00\">2</text>\n",
       "<polygon fill=\"#ffffcc\" stroke=\"none\" points=\"691.606,-125 691.606,-150 747.606,-150 747.606,-125 691.606,-125\"/>\n",
       "<polygon fill=\"none\" stroke=\"black\" points=\"691.606,-125 691.606,-150 747.606,-150 747.606,-125 691.606,-125\"/>\n",
       "<text text-anchor=\"start\" x=\"705.606\" y=\"-133.8\" font-family=\"Times,serif\" font-size=\"14.00\">2014</text>\n",
       "<polygon fill=\"none\" stroke=\"black\" points=\"747.606,-125 747.606,-150 764.606,-150 764.606,-125 747.606,-125\"/>\n",
       "<text text-anchor=\"start\" x=\"752.606\" y=\"-133.8\" font-family=\"Times,serif\" font-size=\"14.00\">2</text>\n",
       "<polygon fill=\"#eeeeee\" stroke=\"none\" points=\"691.606,-100 691.606,-125 747.606,-125 747.606,-100 691.606,-100\"/>\n",
       "<polygon fill=\"none\" stroke=\"black\" points=\"691.606,-100 691.606,-125 747.606,-125 747.606,-100 691.606,-100\"/>\n",
       "<text text-anchor=\"start\" x=\"704.106\" y=\"-108.8\" font-family=\"Times,serif\" font-size=\"14.00\">comb</text>\n",
       "<polygon fill=\"none\" stroke=\"black\" points=\"747.606,-100 747.606,-125 764.606,-125 764.606,-100 747.606,-100\"/>\n",
       "<text text-anchor=\"start\" x=\"752.606\" y=\"-108.8\" font-family=\"Times,serif\" font-size=\"14.00\">3</text>\n",
       "<polygon fill=\"none\" stroke=\"black\" points=\"691.606,-75 691.606,-100 764.606,-100 764.606,-75 691.606,-75\"/>\n",
       "<text text-anchor=\"start\" x=\"703.606\" y=\"-83.8\" font-family=\"Arial Black\" font-size=\"14.00\"> Edges </text>\n",
       "<polygon fill=\"none\" stroke=\"black\" points=\"691.606,-50 691.606,-75 747.606,-75 747.606,-50 691.606,-50\"/>\n",
       "<text text-anchor=\"start\" x=\"696.606\" y=\"-58.8\" font-family=\"Times,serif\" font-size=\"14.00\" fill=\"#0000ff\">overlaps</text>\n",
       "<polygon fill=\"none\" stroke=\"black\" points=\"747.606,-50 747.606,-75 764.606,-75 764.606,-50 747.606,-50\"/>\n",
       "<text text-anchor=\"start\" x=\"752.606\" y=\"-58.8\" font-family=\"Times,serif\" font-size=\"14.00\">1</text>\n",
       "<polygon fill=\"none\" stroke=\"black\" points=\"691.606,-25 691.606,-50 747.606,-50 747.606,-25 691.606,-25\"/>\n",
       "<text text-anchor=\"start\" x=\"705.606\" y=\"-33.8\" font-family=\"Times,serif\" font-size=\"14.00\" fill=\"#000000\">input</text>\n",
       "<polygon fill=\"none\" stroke=\"black\" points=\"747.606,-25 747.606,-50 764.606,-50 764.606,-25 747.606,-25\"/>\n",
       "<text text-anchor=\"start\" x=\"752.606\" y=\"-33.8\" font-family=\"Times,serif\" font-size=\"14.00\">5</text>\n",
       "<polygon fill=\"none\" stroke=\"black\" points=\"691.606,-0 691.606,-25 747.606,-25 747.606,-0 691.606,-0\"/>\n",
       "<text text-anchor=\"start\" x=\"698.106\" y=\"-8.8\" font-family=\"Times,serif\" font-size=\"14.00\" fill=\"#ff0000\">inferred</text>\n",
       "<polygon fill=\"none\" stroke=\"black\" points=\"747.606,-0 747.606,-25 764.606,-25 764.606,-0 747.606,-0\"/>\n",
       "<text text-anchor=\"start\" x=\"752.606\" y=\"-8.8\" font-family=\"Times,serif\" font-size=\"14.00\">2</text>\n",
       "</g>\n",
       "</g>\n",
       "</svg>\n"
      ]
     },
     "execution_count": 20,
     "metadata": {},
     "output_type": "execute_result"
    },
    {
     "data": {
      "image/svg+xml": [
       "<?xml version=\"1.0\" encoding=\"UTF-8\" standalone=\"no\"?>\n",
       "<!DOCTYPE svg PUBLIC \"-//W3C//DTD SVG 1.1//EN\"\n",
       " \"http://www.w3.org/Graphics/SVG/1.1/DTD/svg11.dtd\">\n",
       "<!-- Generated by graphviz version 2.38.0 (20140413.2041)\n",
       " -->\n",
       "<!-- Title: %3 Pages: 1 -->\n",
       "<svg width=\"534pt\" height=\"161pt\"\n",
       " viewBox=\"0.00 0.00 534.00 161.00\" xmlns=\"http://www.w3.org/2000/svg\" xmlns:xlink=\"http://www.w3.org/1999/xlink\">\n",
       "<g id=\"graph0\" class=\"graph\" transform=\"scale(1 1) rotate(0) translate(4 157)\">\n",
       "<title>%3</title>\n",
       "<polygon fill=\"white\" stroke=\"none\" points=\"-4,4 -4,-157 530,-157 530,4 -4,4\"/>\n",
       "<!-- 2015.Gall_Neoa_Clade\\n2014.Paleognathae -->\n",
       "<g id=\"node1\" class=\"node\"><title>2015.Gall_Neoa_Clade\\n2014.Paleognathae</title>\n",
       "<path fill=\"#eeeeee\" stroke=\"black\" d=\"M243,-97C243,-97 123,-97 123,-97 117,-97 111,-91 111,-85 111,-85 111,-71 111,-71 111,-65 117,-59 123,-59 123,-59 243,-59 243,-59 249,-59 255,-65 255,-71 255,-71 255,-85 255,-85 255,-91 249,-97 243,-97\"/>\n",
       "<text text-anchor=\"middle\" x=\"183\" y=\"-81.8\" font-family=\"Times,serif\" font-size=\"14.00\">2015.Gall_Neoa_Clade</text>\n",
       "<text text-anchor=\"middle\" x=\"183\" y=\"-66.8\" font-family=\"Times,serif\" font-size=\"14.00\">2014.Paleognathae</text>\n",
       "</g>\n",
       "<!-- 2015.Aves\\n2014.Aves -->\n",
       "<g id=\"node2\" class=\"node\"><title>2015.Aves\\n2014.Aves</title>\n",
       "<path fill=\"#eeeeee\" stroke=\"black\" d=\"M63,-125C63,-125 12,-125 12,-125 6,-125 0,-119 0,-113 0,-113 0,-99 0,-99 0,-93 6,-87 12,-87 12,-87 63,-87 63,-87 69,-87 75,-93 75,-99 75,-99 75,-113 75,-113 75,-119 69,-125 63,-125\"/>\n",
       "<text text-anchor=\"middle\" x=\"37.5\" y=\"-109.8\" font-family=\"Times,serif\" font-size=\"14.00\">2015.Aves</text>\n",
       "<text text-anchor=\"middle\" x=\"37.5\" y=\"-94.8\" font-family=\"Times,serif\" font-size=\"14.00\">2014.Aves</text>\n",
       "</g>\n",
       "<!-- 2015.Gall_Neoa_Clade\\n2014.Paleognathae&#45;&gt;2015.Aves\\n2014.Aves -->\n",
       "<g id=\"edge3\" class=\"edge\"><title>2015.Gall_Neoa_Clade\\n2014.Paleognathae&#45;&gt;2015.Aves\\n2014.Aves</title>\n",
       "<path fill=\"none\" stroke=\"#000000\" d=\"M110.67,-91.918C102.065,-93.5971 93.4508,-95.2779 85.3241,-96.8636\"/>\n",
       "<polygon fill=\"#000000\" stroke=\"#000000\" points=\"84.4727,-93.4636 75.3281,-98.814 85.8134,-100.334 84.4727,-93.4636\"/>\n",
       "</g>\n",
       "<!-- 2015.Neoaves\\n2014.Tinamiformes -->\n",
       "<g id=\"node3\" class=\"node\"><title>2015.Neoaves\\n2014.Tinamiformes</title>\n",
       "<path fill=\"#eeeeee\" stroke=\"black\" d=\"M411.5,-125C411.5,-125 310.5,-125 310.5,-125 304.5,-125 298.5,-119 298.5,-113 298.5,-113 298.5,-99 298.5,-99 298.5,-93 304.5,-87 310.5,-87 310.5,-87 411.5,-87 411.5,-87 417.5,-87 423.5,-93 423.5,-99 423.5,-99 423.5,-113 423.5,-113 423.5,-119 417.5,-125 411.5,-125\"/>\n",
       "<text text-anchor=\"middle\" x=\"361\" y=\"-109.8\" font-family=\"Times,serif\" font-size=\"14.00\">2015.Neoaves</text>\n",
       "<text text-anchor=\"middle\" x=\"361\" y=\"-94.8\" font-family=\"Times,serif\" font-size=\"14.00\">2014.Tinamiformes</text>\n",
       "</g>\n",
       "<!-- 2015.Neoaves\\n2014.Tinamiformes&#45;&gt;2015.Gall_Neoa_Clade\\n2014.Paleognathae -->\n",
       "<g id=\"edge1\" class=\"edge\"><title>2015.Neoaves\\n2014.Tinamiformes&#45;&gt;2015.Gall_Neoa_Clade\\n2014.Paleognathae</title>\n",
       "<path fill=\"none\" stroke=\"#000000\" d=\"M298.444,-96.207C287.743,-94.5045 276.466,-92.7106 265.333,-90.9394\"/>\n",
       "<polygon fill=\"#000000\" stroke=\"#000000\" points=\"265.595,-87.4372 255.17,-89.3225 264.496,-94.3502 265.595,-87.4372\"/>\n",
       "</g>\n",
       "<!-- 2015.Palaeognathae\\n2014.Neognathae -->\n",
       "<g id=\"node4\" class=\"node\"><title>2015.Palaeognathae\\n2014.Neognathae</title>\n",
       "<path fill=\"#eeeeee\" stroke=\"black\" d=\"M233.5,-153C233.5,-153 132.5,-153 132.5,-153 126.5,-153 120.5,-147 120.5,-141 120.5,-141 120.5,-127 120.5,-127 120.5,-121 126.5,-115 132.5,-115 132.5,-115 233.5,-115 233.5,-115 239.5,-115 245.5,-121 245.5,-127 245.5,-127 245.5,-141 245.5,-141 245.5,-147 239.5,-153 233.5,-153\"/>\n",
       "<text text-anchor=\"middle\" x=\"183\" y=\"-137.8\" font-family=\"Times,serif\" font-size=\"14.00\">2015.Palaeognathae</text>\n",
       "<text text-anchor=\"middle\" x=\"183\" y=\"-122.8\" font-family=\"Times,serif\" font-size=\"14.00\">2014.Neognathae</text>\n",
       "</g>\n",
       "<!-- 2015.Palaeognathae\\n2014.Neognathae&#45;&gt;2015.Aves\\n2014.Aves -->\n",
       "<g id=\"edge4\" class=\"edge\"><title>2015.Palaeognathae\\n2014.Neognathae&#45;&gt;2015.Aves\\n2014.Aves</title>\n",
       "<path fill=\"none\" stroke=\"#000000\" d=\"M120.31,-121.963C108.562,-119.671 96.4467,-117.307 85.2579,-115.123\"/>\n",
       "<polygon fill=\"#000000\" stroke=\"#000000\" points=\"85.7653,-111.657 75.2801,-113.177 84.4247,-118.527 85.7653,-111.657\"/>\n",
       "</g>\n",
       "<!-- 2015.Galloanserae\\n2014.Struthioniformes -->\n",
       "<g id=\"node5\" class=\"node\"><title>2015.Galloanserae\\n2014.Struthioniformes</title>\n",
       "<path fill=\"#eeeeee\" stroke=\"black\" d=\"M419,-69C419,-69 303,-69 303,-69 297,-69 291,-63 291,-57 291,-57 291,-43 291,-43 291,-37 297,-31 303,-31 303,-31 419,-31 419,-31 425,-31 431,-37 431,-43 431,-43 431,-57 431,-57 431,-63 425,-69 419,-69\"/>\n",
       "<text text-anchor=\"middle\" x=\"361\" y=\"-53.8\" font-family=\"Times,serif\" font-size=\"14.00\">2015.Galloanserae</text>\n",
       "<text text-anchor=\"middle\" x=\"361\" y=\"-38.8\" font-family=\"Times,serif\" font-size=\"14.00\">2014.Struthioniformes</text>\n",
       "</g>\n",
       "<!-- 2015.Galloanserae\\n2014.Struthioniformes&#45;&gt;2015.Gall_Neoa_Clade\\n2014.Paleognathae -->\n",
       "<g id=\"edge2\" class=\"edge\"><title>2015.Galloanserae\\n2014.Struthioniformes&#45;&gt;2015.Gall_Neoa_Clade\\n2014.Paleognathae</title>\n",
       "<path fill=\"none\" stroke=\"#000000\" d=\"M290.945,-60.986C282.501,-62.3294 273.812,-63.7118 265.21,-65.0803\"/>\n",
       "<polygon fill=\"#000000\" stroke=\"#000000\" points=\"264.498,-61.6495 255.172,-66.6772 265.597,-68.5625 264.498,-61.6495\"/>\n",
       "</g>\n",
       "<!-- Legend -->\n",
       "<g id=\"node6\" class=\"node\"><title>Legend</title>\n",
       "<path fill=\"white\" stroke=\"black\" d=\"M514,-100C514,-100 479,-100 479,-100 473,-100 467,-94 467,-88 467,-88 467,-12 467,-12 467,-6 473,-0 479,-0 479,-0 514,-0 514,-0 520,-0 526,-6 526,-12 526,-12 526,-88 526,-88 526,-94 520,-100 514,-100\"/>\n",
       "<polygon fill=\"none\" stroke=\"black\" points=\"467.5,-75 467.5,-100 526.5,-100 526.5,-75 467.5,-75\"/>\n",
       "<text text-anchor=\"start\" x=\"474\" y=\"-83.8\" font-family=\"Arial Black\" font-size=\"14.00\"> Nodes</text>\n",
       "<polygon fill=\"#eeeeee\" stroke=\"none\" points=\"467.5,-50 467.5,-75 508.5,-75 508.5,-50 467.5,-50\"/>\n",
       "<polygon fill=\"none\" stroke=\"black\" points=\"467.5,-50 467.5,-75 508.5,-75 508.5,-50 467.5,-50\"/>\n",
       "<text text-anchor=\"start\" x=\"472.5\" y=\"-58.8\" font-family=\"Times,serif\" font-size=\"14.00\">comb</text>\n",
       "<polygon fill=\"none\" stroke=\"black\" points=\"508.5,-50 508.5,-75 526.5,-75 526.5,-50 508.5,-50\"/>\n",
       "<text text-anchor=\"start\" x=\"514\" y=\"-58.8\" font-family=\"Times,serif\" font-size=\"14.00\">5</text>\n",
       "<polygon fill=\"none\" stroke=\"black\" points=\"467.5,-25 467.5,-50 526.5,-50 526.5,-25 467.5,-25\"/>\n",
       "<text text-anchor=\"start\" x=\"472.5\" y=\"-33.8\" font-family=\"Arial Black\" font-size=\"14.00\"> Edges </text>\n",
       "<polygon fill=\"none\" stroke=\"black\" points=\"467.5,-0 467.5,-25 508.5,-25 508.5,-0 467.5,-0\"/>\n",
       "<text text-anchor=\"start\" x=\"474\" y=\"-8.8\" font-family=\"Times,serif\" font-size=\"14.00\" fill=\"#000000\">input</text>\n",
       "<polygon fill=\"none\" stroke=\"black\" points=\"508.5,-0 508.5,-25 526.5,-25 526.5,-0 508.5,-0\"/>\n",
       "<text text-anchor=\"start\" x=\"514\" y=\"-8.8\" font-family=\"Times,serif\" font-size=\"14.00\">4</text>\n",
       "</g>\n",
       "</g>\n",
       "</svg>\n"
      ]
     },
     "execution_count": 20,
     "metadata": {},
     "output_type": "execute_result"
    },
    {
     "data": {
      "image/svg+xml": [
       "<?xml version=\"1.0\" encoding=\"UTF-8\" standalone=\"no\"?>\n",
       "<!DOCTYPE svg PUBLIC \"-//W3C//DTD SVG 1.1//EN\"\n",
       " \"http://www.w3.org/Graphics/SVG/1.1/DTD/svg11.dtd\">\n",
       "<!-- Generated by graphviz version 2.38.0 (20140413.2041)\n",
       " -->\n",
       "<!-- Title: %3 Pages: 1 -->\n",
       "<svg width=\"592pt\" height=\"240pt\"\n",
       " viewBox=\"0.00 0.00 592.11 239.50\" xmlns=\"http://www.w3.org/2000/svg\" xmlns:xlink=\"http://www.w3.org/1999/xlink\">\n",
       "<g id=\"graph0\" class=\"graph\" transform=\"scale(1 1) rotate(0) translate(4 235.5)\">\n",
       "<title>%3</title>\n",
       "<polygon fill=\"white\" stroke=\"none\" points=\"-4,4 -4,-235.5 588.106,-235.5 588.106,4 -4,4\"/>\n",
       "<!-- 2015.Palaeognathae -->\n",
       "<g id=\"node1\" class=\"node\"><title>2015.Palaeognathae</title>\n",
       "<polygon fill=\"#ccffcc\" stroke=\"black\" points=\"467.606,-231.5 342.606,-231.5 342.606,-195.5 467.606,-195.5 467.606,-231.5\"/>\n",
       "<text text-anchor=\"middle\" x=\"405.106\" y=\"-209.8\" font-family=\"Times,serif\" font-size=\"14.00\">2015.Palaeognathae</text>\n",
       "</g>\n",
       "<!-- 2015.Aves -->\n",
       "<g id=\"node2\" class=\"node\"><title>2015.Aves</title>\n",
       "<polygon fill=\"#ccffcc\" stroke=\"black\" points=\"90.2619,-173.5 15.2619,-173.5 15.2619,-137.5 90.2619,-137.5 90.2619,-173.5\"/>\n",
       "<text text-anchor=\"middle\" x=\"52.7619\" y=\"-151.8\" font-family=\"Times,serif\" font-size=\"14.00\">2015.Aves</text>\n",
       "</g>\n",
       "<!-- 2015.Palaeognathae&#45;&gt;2015.Aves -->\n",
       "<g id=\"edge6\" class=\"edge\"><title>2015.Palaeognathae&#45;&gt;2015.Aves</title>\n",
       "<path fill=\"none\" stroke=\"#000000\" d=\"M342.583,-212.693C288.873,-210.852 209.156,-205.362 141.524,-189.5 127.699,-186.257 113.146,-181.298 99.9531,-176.161\"/>\n",
       "<polygon fill=\"#000000\" stroke=\"#000000\" points=\"101.201,-172.891 90.6168,-172.412 98.5919,-179.386 101.201,-172.891\"/>\n",
       "</g>\n",
       "<!-- 2014.Aves -->\n",
       "<g id=\"node3\" class=\"node\"><title>2014.Aves</title>\n",
       "<polygon fill=\"#ffffcc\" stroke=\"black\" points=\"105.287,-94.0442 105.287,-108.956 74.5185,-119.5 31.0054,-119.5 0.236993,-108.956 0.236993,-94.0442 31.0054,-83.5 74.5185,-83.5 105.287,-94.0442\"/>\n",
       "<text text-anchor=\"middle\" x=\"52.7619\" y=\"-97.8\" font-family=\"Times,serif\" font-size=\"14.00\">2014.Aves</text>\n",
       "</g>\n",
       "<!-- 2015.Palaeognathae&#45;&gt;2014.Aves -->\n",
       "<g id=\"edge1\" class=\"edge\"><title>2015.Palaeognathae&#45;&gt;2014.Aves</title>\n",
       "<path fill=\"none\" stroke=\"#0000ff\" stroke-dasharray=\"1,5\" d=\"M342.519,-199.225C328.275,-195.978 313.171,-192.58 299.106,-189.5 229.207,-174.194 206.454,-186.572 141.524,-156.5 123.131,-147.981 122.579,-139.454 105.524,-128.5 98.872,-124.228 91.4683,-120.052 84.3884,-116.311\"/>\n",
       "</g>\n",
       "<!-- 2014.Neognathae -->\n",
       "<g id=\"node4\" class=\"node\"><title>2014.Neognathae</title>\n",
       "<polygon fill=\"#ffffcc\" stroke=\"black\" points=\"298.898,-66.0442 298.898,-80.9558 252.865,-91.5 187.765,-91.5 141.732,-80.9558 141.732,-66.0442 187.765,-55.5 252.865,-55.5 298.898,-66.0442\"/>\n",
       "<text text-anchor=\"middle\" x=\"220.315\" y=\"-69.8\" font-family=\"Times,serif\" font-size=\"14.00\">2014.Neognathae</text>\n",
       "</g>\n",
       "<!-- 2015.Palaeognathae&#45;&gt;2014.Neognathae -->\n",
       "<g id=\"edge3\" class=\"edge\"><title>2015.Palaeognathae&#45;&gt;2014.Neognathae</title>\n",
       "<path fill=\"none\" stroke=\"#0000ff\" stroke-dasharray=\"1,5\" d=\"M365.866,-195.322C354.998,-188.881 343.774,-180.867 335.106,-171.5 311.077,-145.532 325.756,-123.771 299.106,-100.5 292.322,-94.5763 284.166,-89.9329 275.724,-86.2986\"/>\n",
       "</g>\n",
       "<!-- 2015.Aves&#45;&gt;2014.Aves -->\n",
       "<g id=\"edge4\" class=\"edge\"><title>2015.Aves&#45;&gt;2014.Aves</title>\n",
       "<path fill=\"none\" stroke=\"#0000ff\" stroke-dasharray=\"1,5\" d=\"M52.7619,-137.29C52.7619,-131.407 52.7619,-125.524 52.7619,-119.641\"/>\n",
       "</g>\n",
       "<!-- 2015.Aves&#45;&gt;2014.Neognathae -->\n",
       "<g id=\"edge2\" class=\"edge\"><title>2015.Aves&#45;&gt;2014.Neognathae</title>\n",
       "<path fill=\"none\" stroke=\"#0000ff\" stroke-dasharray=\"1,5\" d=\"M90.4322,-137.427C95.5849,-134.585 100.748,-131.567 105.524,-128.5 122.579,-117.546 123.712,-110.174 141.524,-100.5 150.569,-95.5874 160.679,-91.3023 170.541,-87.6805\"/>\n",
       "</g>\n",
       "<!-- 2014.Neognathae&#45;&gt;2014.Aves -->\n",
       "<g id=\"edge7\" class=\"edge\"><title>2014.Neognathae&#45;&gt;2014.Aves</title>\n",
       "<path fill=\"none\" stroke=\"#000000\" d=\"M155.781,-84.2455C141.693,-86.6282 126.818,-89.1441 112.913,-91.4958\"/>\n",
       "<polygon fill=\"#000000\" stroke=\"#000000\" points=\"112.261,-88.0562 102.985,-93.1749 113.429,-94.9582 112.261,-88.0562\"/>\n",
       "</g>\n",
       "<!-- 2015.Neoaves\\n2014.Tinamiformes -->\n",
       "<g id=\"node5\" class=\"node\"><title>2015.Neoaves\\n2014.Tinamiformes</title>\n",
       "<path fill=\"#eeeeee\" stroke=\"black\" d=\"M455.606,-162.5C455.606,-162.5 354.606,-162.5 354.606,-162.5 348.606,-162.5 342.606,-156.5 342.606,-150.5 342.606,-150.5 342.606,-136.5 342.606,-136.5 342.606,-130.5 348.606,-124.5 354.606,-124.5 354.606,-124.5 455.606,-124.5 455.606,-124.5 461.606,-124.5 467.606,-130.5 467.606,-136.5 467.606,-136.5 467.606,-150.5 467.606,-150.5 467.606,-156.5 461.606,-162.5 455.606,-162.5\"/>\n",
       "<text text-anchor=\"middle\" x=\"405.106\" y=\"-147.3\" font-family=\"Times,serif\" font-size=\"14.00\">2015.Neoaves</text>\n",
       "<text text-anchor=\"middle\" x=\"405.106\" y=\"-132.3\" font-family=\"Times,serif\" font-size=\"14.00\">2014.Tinamiformes</text>\n",
       "</g>\n",
       "<!-- 2015.Gall_Neoa_Clade\\n2014.Paleognathae -->\n",
       "<g id=\"node7\" class=\"node\"><title>2015.Gall_Neoa_Clade\\n2014.Paleognathae</title>\n",
       "<path fill=\"#eeeeee\" stroke=\"black\" d=\"M280.315,-147.5C280.315,-147.5 160.315,-147.5 160.315,-147.5 154.315,-147.5 148.315,-141.5 148.315,-135.5 148.315,-135.5 148.315,-121.5 148.315,-121.5 148.315,-115.5 154.315,-109.5 160.315,-109.5 160.315,-109.5 280.315,-109.5 280.315,-109.5 286.315,-109.5 292.315,-115.5 292.315,-121.5 292.315,-121.5 292.315,-135.5 292.315,-135.5 292.315,-141.5 286.315,-147.5 280.315,-147.5\"/>\n",
       "<text text-anchor=\"middle\" x=\"220.315\" y=\"-132.3\" font-family=\"Times,serif\" font-size=\"14.00\">2015.Gall_Neoa_Clade</text>\n",
       "<text text-anchor=\"middle\" x=\"220.315\" y=\"-117.3\" font-family=\"Times,serif\" font-size=\"14.00\">2014.Paleognathae</text>\n",
       "</g>\n",
       "<!-- 2015.Neoaves\\n2014.Tinamiformes&#45;&gt;2015.Gall_Neoa_Clade\\n2014.Paleognathae -->\n",
       "<g id=\"edge5\" class=\"edge\"><title>2015.Neoaves\\n2014.Tinamiformes&#45;&gt;2015.Gall_Neoa_Clade\\n2014.Paleognathae</title>\n",
       "<path fill=\"none\" stroke=\"#000000\" d=\"M342.476,-138.443C329.675,-137.392 315.998,-136.27 302.614,-135.171\"/>\n",
       "<polygon fill=\"#000000\" stroke=\"#000000\" points=\"302.708,-131.668 292.456,-134.338 302.136,-138.644 302.708,-131.668\"/>\n",
       "</g>\n",
       "<!-- 2015.Galloanserae\\n2014.Struthioniformes -->\n",
       "<g id=\"node6\" class=\"node\"><title>2015.Galloanserae\\n2014.Struthioniformes</title>\n",
       "<path fill=\"#eeeeee\" stroke=\"black\" d=\"M463.106,-106.5C463.106,-106.5 347.106,-106.5 347.106,-106.5 341.106,-106.5 335.106,-100.5 335.106,-94.5 335.106,-94.5 335.106,-80.5 335.106,-80.5 335.106,-74.5 341.106,-68.5 347.106,-68.5 347.106,-68.5 463.106,-68.5 463.106,-68.5 469.106,-68.5 475.106,-74.5 475.106,-80.5 475.106,-80.5 475.106,-94.5 475.106,-94.5 475.106,-100.5 469.106,-106.5 463.106,-106.5\"/>\n",
       "<text text-anchor=\"middle\" x=\"405.106\" y=\"-91.3\" font-family=\"Times,serif\" font-size=\"14.00\">2015.Galloanserae</text>\n",
       "<text text-anchor=\"middle\" x=\"405.106\" y=\"-76.3\" font-family=\"Times,serif\" font-size=\"14.00\">2014.Struthioniformes</text>\n",
       "</g>\n",
       "<!-- 2015.Galloanserae\\n2014.Struthioniformes&#45;&gt;2015.Gall_Neoa_Clade\\n2014.Paleognathae -->\n",
       "<g id=\"edge10\" class=\"edge\"><title>2015.Galloanserae\\n2014.Struthioniformes&#45;&gt;2015.Gall_Neoa_Clade\\n2014.Paleognathae</title>\n",
       "<path fill=\"none\" stroke=\"#000000\" d=\"M335.001,-103C324.319,-105.396 313.204,-107.889 302.291,-110.337\"/>\n",
       "<polygon fill=\"#000000\" stroke=\"#000000\" points=\"301.334,-106.965 292.343,-112.569 302.866,-113.795 301.334,-106.965\"/>\n",
       "</g>\n",
       "<!-- 2015.Gall_Neoa_Clade\\n2014.Paleognathae&#45;&gt;2015.Aves -->\n",
       "<g id=\"edge8\" class=\"edge\"><title>2015.Gall_Neoa_Clade\\n2014.Paleognathae&#45;&gt;2015.Aves</title>\n",
       "<path fill=\"none\" stroke=\"#000000\" d=\"M148.145,-140.107C132.052,-142.732 115.363,-145.454 100.574,-147.865\"/>\n",
       "<polygon fill=\"#000000\" stroke=\"#000000\" points=\"99.9768,-144.416 90.6706,-149.481 101.104,-151.325 99.9768,-144.416\"/>\n",
       "</g>\n",
       "<!-- 2015.Gall_Neoa_Clade\\n2014.Paleognathae&#45;&gt;2014.Aves -->\n",
       "<g id=\"edge9\" class=\"edge\"><title>2015.Gall_Neoa_Clade\\n2014.Paleognathae&#45;&gt;2014.Aves</title>\n",
       "<path fill=\"none\" stroke=\"#000000\" d=\"M148.145,-116.893C136.738,-115.033 125.032,-113.123 113.915,-111.31\"/>\n",
       "<polygon fill=\"#000000\" stroke=\"#000000\" points=\"114.33,-107.832 103.897,-109.676 113.203,-114.741 114.33,-107.832\"/>\n",
       "</g>\n",
       "<!-- Legend -->\n",
       "<g id=\"node8\" class=\"node\"><title>Legend</title>\n",
       "<path fill=\"white\" stroke=\"black\" d=\"M572.106,-175C572.106,-175 523.106,-175 523.106,-175 517.106,-175 511.106,-169 511.106,-163 511.106,-163 511.106,-12 511.106,-12 511.106,-6 517.106,-0 523.106,-0 523.106,-0 572.106,-0 572.106,-0 578.106,-0 584.106,-6 584.106,-12 584.106,-12 584.106,-163 584.106,-163 584.106,-169 578.106,-175 572.106,-175\"/>\n",
       "<polygon fill=\"none\" stroke=\"black\" points=\"511.606,-149.5 511.606,-174.5 584.606,-174.5 584.606,-149.5 511.606,-149.5\"/>\n",
       "<text text-anchor=\"start\" x=\"525.106\" y=\"-158.3\" font-family=\"Arial Black\" font-size=\"14.00\"> Nodes</text>\n",
       "<polygon fill=\"#ccffcc\" stroke=\"none\" points=\"511.606,-124.5 511.606,-149.5 567.606,-149.5 567.606,-124.5 511.606,-124.5\"/>\n",
       "<polygon fill=\"none\" stroke=\"black\" points=\"511.606,-124.5 511.606,-149.5 567.606,-149.5 567.606,-124.5 511.606,-124.5\"/>\n",
       "<text text-anchor=\"start\" x=\"525.606\" y=\"-133.3\" font-family=\"Times,serif\" font-size=\"14.00\">2015</text>\n",
       "<polygon fill=\"none\" stroke=\"black\" points=\"567.606,-124.5 567.606,-149.5 584.606,-149.5 584.606,-124.5 567.606,-124.5\"/>\n",
       "<text text-anchor=\"start\" x=\"572.606\" y=\"-133.3\" font-family=\"Times,serif\" font-size=\"14.00\">2</text>\n",
       "<polygon fill=\"#ffffcc\" stroke=\"none\" points=\"511.606,-99.5 511.606,-124.5 567.606,-124.5 567.606,-99.5 511.606,-99.5\"/>\n",
       "<polygon fill=\"none\" stroke=\"black\" points=\"511.606,-99.5 511.606,-124.5 567.606,-124.5 567.606,-99.5 511.606,-99.5\"/>\n",
       "<text text-anchor=\"start\" x=\"525.606\" y=\"-108.3\" font-family=\"Times,serif\" font-size=\"14.00\">2014</text>\n",
       "<polygon fill=\"none\" stroke=\"black\" points=\"567.606,-99.5 567.606,-124.5 584.606,-124.5 584.606,-99.5 567.606,-99.5\"/>\n",
       "<text text-anchor=\"start\" x=\"572.606\" y=\"-108.3\" font-family=\"Times,serif\" font-size=\"14.00\">2</text>\n",
       "<polygon fill=\"#eeeeee\" stroke=\"none\" points=\"511.606,-74.5 511.606,-99.5 567.606,-99.5 567.606,-74.5 511.606,-74.5\"/>\n",
       "<polygon fill=\"none\" stroke=\"black\" points=\"511.606,-74.5 511.606,-99.5 567.606,-99.5 567.606,-74.5 511.606,-74.5\"/>\n",
       "<text text-anchor=\"start\" x=\"524.106\" y=\"-83.3\" font-family=\"Times,serif\" font-size=\"14.00\">comb</text>\n",
       "<polygon fill=\"none\" stroke=\"black\" points=\"567.606,-74.5 567.606,-99.5 584.606,-99.5 584.606,-74.5 567.606,-74.5\"/>\n",
       "<text text-anchor=\"start\" x=\"572.606\" y=\"-83.3\" font-family=\"Times,serif\" font-size=\"14.00\">3</text>\n",
       "<polygon fill=\"none\" stroke=\"black\" points=\"511.606,-49.5 511.606,-74.5 584.606,-74.5 584.606,-49.5 511.606,-49.5\"/>\n",
       "<text text-anchor=\"start\" x=\"523.606\" y=\"-58.3\" font-family=\"Arial Black\" font-size=\"14.00\"> Edges </text>\n",
       "<polygon fill=\"none\" stroke=\"black\" points=\"511.606,-24.5 511.606,-49.5 567.606,-49.5 567.606,-24.5 511.606,-24.5\"/>\n",
       "<text text-anchor=\"start\" x=\"516.606\" y=\"-33.3\" font-family=\"Times,serif\" font-size=\"14.00\" fill=\"#0000ff\">overlaps</text>\n",
       "<polygon fill=\"none\" stroke=\"black\" points=\"567.606,-24.5 567.606,-49.5 584.606,-49.5 584.606,-24.5 567.606,-24.5\"/>\n",
       "<text text-anchor=\"start\" x=\"572.606\" y=\"-33.3\" font-family=\"Times,serif\" font-size=\"14.00\">4</text>\n",
       "<polygon fill=\"none\" stroke=\"black\" points=\"511.606,0.5 511.606,-24.5 567.606,-24.5 567.606,0.5 511.606,0.5\"/>\n",
       "<text text-anchor=\"start\" x=\"525.606\" y=\"-8.3\" font-family=\"Times,serif\" font-size=\"14.00\" fill=\"#000000\">input</text>\n",
       "<polygon fill=\"none\" stroke=\"black\" points=\"567.606,0.5 567.606,-24.5 584.606,-24.5 584.606,0.5 567.606,0.5\"/>\n",
       "<text text-anchor=\"start\" x=\"572.606\" y=\"-8.3\" font-family=\"Times,serif\" font-size=\"14.00\">6</text>\n",
       "</g>\n",
       "</g>\n",
       "</svg>\n"
      ]
     },
     "execution_count": 20,
     "metadata": {},
     "output_type": "execute_result"
    },
    {
     "data": {
      "image/svg+xml": [
       "<?xml version=\"1.0\" encoding=\"UTF-8\" standalone=\"no\"?>\n",
       "<!DOCTYPE svg PUBLIC \"-//W3C//DTD SVG 1.1//EN\"\n",
       " \"http://www.w3.org/Graphics/SVG/1.1/DTD/svg11.dtd\">\n",
       "<!-- Generated by graphviz version 2.38.0 (20140413.2041)\n",
       " -->\n",
       "<!-- Title: %3 Pages: 1 -->\n",
       "<svg width=\"723pt\" height=\"209pt\"\n",
       " viewBox=\"0.00 0.00 722.58 209.00\" xmlns=\"http://www.w3.org/2000/svg\" xmlns:xlink=\"http://www.w3.org/1999/xlink\">\n",
       "<g id=\"graph0\" class=\"graph\" transform=\"scale(1 1) rotate(0) translate(4 205)\">\n",
       "<title>%3</title>\n",
       "<polygon fill=\"white\" stroke=\"none\" points=\"-4,4 -4,-205 718.582,-205 718.582,4 -4,4\"/>\n",
       "<!-- 2015.Palaeognathae -->\n",
       "<g id=\"node1\" class=\"node\"><title>2015.Palaeognathae</title>\n",
       "<polygon fill=\"#ccffcc\" stroke=\"black\" points=\"236,-201 111,-201 111,-165 236,-165 236,-201\"/>\n",
       "<text text-anchor=\"middle\" x=\"173.5\" y=\"-179.3\" font-family=\"Times,serif\" font-size=\"14.00\">2015.Palaeognathae</text>\n",
       "</g>\n",
       "<!-- 2015.Aves -->\n",
       "<g id=\"node2\" class=\"node\"><title>2015.Aves</title>\n",
       "<polygon fill=\"#ccffcc\" stroke=\"black\" points=\"75,-174 0,-174 0,-138 75,-138 75,-174\"/>\n",
       "<text text-anchor=\"middle\" x=\"37.5\" y=\"-152.3\" font-family=\"Times,serif\" font-size=\"14.00\">2015.Aves</text>\n",
       "</g>\n",
       "<!-- 2015.Palaeognathae&#45;&gt;2015.Aves -->\n",
       "<g id=\"edge5\" class=\"edge\"><title>2015.Palaeognathae&#45;&gt;2015.Aves</title>\n",
       "<path fill=\"none\" stroke=\"#000000\" d=\"M110.991,-170.606C102.284,-168.852 93.4529,-167.073 85.0907,-165.388\"/>\n",
       "<polygon fill=\"#000000\" stroke=\"#000000\" points=\"85.6575,-161.932 75.1631,-163.387 84.2748,-168.794 85.6575,-161.932\"/>\n",
       "</g>\n",
       "<!-- 2014.Aves -->\n",
       "<g id=\"node3\" class=\"node\"><title>2014.Aves</title>\n",
       "<polygon fill=\"#ffffcc\" stroke=\"black\" points=\"226.025,-121.544 226.025,-136.456 195.257,-147 151.743,-147 120.975,-136.456 120.975,-121.544 151.743,-111 195.257,-111 226.025,-121.544\"/>\n",
       "<text text-anchor=\"middle\" x=\"173.5\" y=\"-125.3\" font-family=\"Times,serif\" font-size=\"14.00\">2014.Aves</text>\n",
       "</g>\n",
       "<!-- 2015.Palaeognathae&#45;&gt;2014.Aves -->\n",
       "<g id=\"edge1\" class=\"edge\"><title>2015.Palaeognathae&#45;&gt;2014.Aves</title>\n",
       "<path fill=\"none\" stroke=\"#0000ff\" stroke-dasharray=\"1,5\" d=\"M173.5,-164.79C173.5,-158.907 173.5,-153.024 173.5,-147.141\"/>\n",
       "</g>\n",
       "<!-- 2014.Aves&#45;&gt;2015.Aves -->\n",
       "<g id=\"edge7\" class=\"edge\"><title>2014.Aves&#45;&gt;2015.Aves</title>\n",
       "<path fill=\"none\" stroke=\"#ff0000\" d=\"M126.009,-138.368C112.757,-141.038 98.3207,-143.947 85.0644,-146.618\"/>\n",
       "<polygon fill=\"#ff0000\" stroke=\"#ff0000\" points=\"84.308,-143.2 75.1964,-148.606 85.6907,-150.062 84.308,-143.2\"/>\n",
       "</g>\n",
       "<!-- 2014.Neognathae -->\n",
       "<g id=\"node4\" class=\"node\"><title>2014.Neognathae</title>\n",
       "<polygon fill=\"#ffffcc\" stroke=\"black\" points=\"429.374,-175.544 429.374,-190.456 383.341,-201 318.241,-201 272.208,-190.456 272.208,-175.544 318.241,-165 383.341,-165 429.374,-175.544\"/>\n",
       "<text text-anchor=\"middle\" x=\"350.791\" y=\"-179.3\" font-family=\"Times,serif\" font-size=\"14.00\">2014.Neognathae</text>\n",
       "</g>\n",
       "<!-- 2014.Neognathae&#45;&gt;2015.Palaeognathae -->\n",
       "<g id=\"edge8\" class=\"edge\"><title>2014.Neognathae&#45;&gt;2015.Palaeognathae</title>\n",
       "<path fill=\"none\" stroke=\"#ff0000\" d=\"M272.14,-183C263.547,-183 254.823,-183 246.305,-183\"/>\n",
       "<polygon fill=\"#ff0000\" stroke=\"#ff0000\" points=\"246.041,-179.5 236.041,-183 246.041,-186.5 246.041,-179.5\"/>\n",
       "</g>\n",
       "<!-- 2014.Neognathae&#45;&gt;2014.Aves -->\n",
       "<g id=\"edge6\" class=\"edge\"><title>2014.Neognathae&#45;&gt;2014.Aves</title>\n",
       "<path fill=\"none\" stroke=\"#000000\" d=\"M302.816,-168.529C278.106,-160.917 247.855,-151.598 222.932,-143.92\"/>\n",
       "<polygon fill=\"#000000\" stroke=\"#000000\" points=\"223.902,-140.556 213.314,-140.957 221.841,-147.246 223.902,-140.556\"/>\n",
       "</g>\n",
       "<!-- 2015.Gall_Neoa_Clade\\n2014.Paleognathae -->\n",
       "<g id=\"node5\" class=\"node\"><title>2015.Gall_Neoa_Clade\\n2014.Paleognathae</title>\n",
       "<path fill=\"#eeeeee\" stroke=\"black\" d=\"M410.791,-147C410.791,-147 290.791,-147 290.791,-147 284.791,-147 278.791,-141 278.791,-135 278.791,-135 278.791,-121 278.791,-121 278.791,-115 284.791,-109 290.791,-109 290.791,-109 410.791,-109 410.791,-109 416.791,-109 422.791,-115 422.791,-121 422.791,-121 422.791,-135 422.791,-135 422.791,-141 416.791,-147 410.791,-147\"/>\n",
       "<text text-anchor=\"middle\" x=\"350.791\" y=\"-131.8\" font-family=\"Times,serif\" font-size=\"14.00\">2015.Gall_Neoa_Clade</text>\n",
       "<text text-anchor=\"middle\" x=\"350.791\" y=\"-116.8\" font-family=\"Times,serif\" font-size=\"14.00\">2014.Paleognathae</text>\n",
       "</g>\n",
       "<!-- 2015.Gall_Neoa_Clade\\n2014.Paleognathae&#45;&gt;2014.Aves -->\n",
       "<g id=\"edge2\" class=\"edge\"><title>2015.Gall_Neoa_Clade\\n2014.Paleognathae&#45;&gt;2014.Aves</title>\n",
       "<path fill=\"none\" stroke=\"#000000\" d=\"M278.746,-128.405C264.755,-128.485 250.179,-128.568 236.514,-128.646\"/>\n",
       "<polygon fill=\"#000000\" stroke=\"#000000\" points=\"236.246,-125.148 226.267,-128.705 236.286,-132.147 236.246,-125.148\"/>\n",
       "</g>\n",
       "<!-- 2015.Neoaves\\n2014.Tinamiformes -->\n",
       "<g id=\"node6\" class=\"node\"><title>2015.Neoaves\\n2014.Tinamiformes</title>\n",
       "<path fill=\"#eeeeee\" stroke=\"black\" d=\"M586.082,-175C586.082,-175 485.082,-175 485.082,-175 479.082,-175 473.082,-169 473.082,-163 473.082,-163 473.082,-149 473.082,-149 473.082,-143 479.082,-137 485.082,-137 485.082,-137 586.082,-137 586.082,-137 592.082,-137 598.082,-143 598.082,-149 598.082,-149 598.082,-163 598.082,-163 598.082,-169 592.082,-175 586.082,-175\"/>\n",
       "<text text-anchor=\"middle\" x=\"535.582\" y=\"-159.8\" font-family=\"Times,serif\" font-size=\"14.00\">2015.Neoaves</text>\n",
       "<text text-anchor=\"middle\" x=\"535.582\" y=\"-144.8\" font-family=\"Times,serif\" font-size=\"14.00\">2014.Tinamiformes</text>\n",
       "</g>\n",
       "<!-- 2015.Neoaves\\n2014.Tinamiformes&#45;&gt;2015.Gall_Neoa_Clade\\n2014.Paleognathae -->\n",
       "<g id=\"edge4\" class=\"edge\"><title>2015.Neoaves\\n2014.Tinamiformes&#45;&gt;2015.Gall_Neoa_Clade\\n2014.Paleognathae</title>\n",
       "<path fill=\"none\" stroke=\"#000000\" d=\"M472.952,-146.56C460.151,-144.599 446.474,-142.504 433.09,-140.453\"/>\n",
       "<polygon fill=\"#000000\" stroke=\"#000000\" points=\"433.346,-136.952 422.932,-138.897 432.286,-143.871 433.346,-136.952\"/>\n",
       "</g>\n",
       "<!-- 2015.Galloanserae\\n2014.Struthioniformes -->\n",
       "<g id=\"node7\" class=\"node\"><title>2015.Galloanserae\\n2014.Struthioniformes</title>\n",
       "<path fill=\"#eeeeee\" stroke=\"black\" d=\"M593.582,-119C593.582,-119 477.582,-119 477.582,-119 471.582,-119 465.582,-113 465.582,-107 465.582,-107 465.582,-93 465.582,-93 465.582,-87 471.582,-81 477.582,-81 477.582,-81 593.582,-81 593.582,-81 599.582,-81 605.582,-87 605.582,-93 605.582,-93 605.582,-107 605.582,-107 605.582,-113 599.582,-119 593.582,-119\"/>\n",
       "<text text-anchor=\"middle\" x=\"535.582\" y=\"-103.8\" font-family=\"Times,serif\" font-size=\"14.00\">2015.Galloanserae</text>\n",
       "<text text-anchor=\"middle\" x=\"535.582\" y=\"-88.8\" font-family=\"Times,serif\" font-size=\"14.00\">2014.Struthioniformes</text>\n",
       "</g>\n",
       "<!-- 2015.Galloanserae\\n2014.Struthioniformes&#45;&gt;2015.Gall_Neoa_Clade\\n2014.Paleognathae -->\n",
       "<g id=\"edge3\" class=\"edge\"><title>2015.Galloanserae\\n2014.Struthioniformes&#45;&gt;2015.Gall_Neoa_Clade\\n2014.Paleognathae</title>\n",
       "<path fill=\"none\" stroke=\"#000000\" d=\"M465.477,-110.586C454.795,-112.222 443.68,-113.924 432.767,-115.596\"/>\n",
       "<polygon fill=\"#000000\" stroke=\"#000000\" points=\"432.173,-112.146 422.819,-117.12 433.233,-119.065 432.173,-112.146\"/>\n",
       "</g>\n",
       "<!-- Legend -->\n",
       "<g id=\"node8\" class=\"node\"><title>Legend</title>\n",
       "<path fill=\"white\" stroke=\"black\" d=\"M702.582,-200C702.582,-200 653.582,-200 653.582,-200 647.582,-200 641.582,-194 641.582,-188 641.582,-188 641.582,-12 641.582,-12 641.582,-6 647.582,-0 653.582,-0 653.582,-0 702.582,-0 702.582,-0 708.582,-0 714.582,-6 714.582,-12 714.582,-12 714.582,-188 714.582,-188 714.582,-194 708.582,-200 702.582,-200\"/>\n",
       "<polygon fill=\"none\" stroke=\"black\" points=\"642.082,-175 642.082,-200 715.082,-200 715.082,-175 642.082,-175\"/>\n",
       "<text text-anchor=\"start\" x=\"655.582\" y=\"-183.8\" font-family=\"Arial Black\" font-size=\"14.00\"> Nodes</text>\n",
       "<polygon fill=\"#ccffcc\" stroke=\"none\" points=\"642.082,-150 642.082,-175 698.082,-175 698.082,-150 642.082,-150\"/>\n",
       "<polygon fill=\"none\" stroke=\"black\" points=\"642.082,-150 642.082,-175 698.082,-175 698.082,-150 642.082,-150\"/>\n",
       "<text text-anchor=\"start\" x=\"656.082\" y=\"-158.8\" font-family=\"Times,serif\" font-size=\"14.00\">2015</text>\n",
       "<polygon fill=\"none\" stroke=\"black\" points=\"698.082,-150 698.082,-175 715.082,-175 715.082,-150 698.082,-150\"/>\n",
       "<text text-anchor=\"start\" x=\"703.082\" y=\"-158.8\" font-family=\"Times,serif\" font-size=\"14.00\">2</text>\n",
       "<polygon fill=\"#ffffcc\" stroke=\"none\" points=\"642.082,-125 642.082,-150 698.082,-150 698.082,-125 642.082,-125\"/>\n",
       "<polygon fill=\"none\" stroke=\"black\" points=\"642.082,-125 642.082,-150 698.082,-150 698.082,-125 642.082,-125\"/>\n",
       "<text text-anchor=\"start\" x=\"656.082\" y=\"-133.8\" font-family=\"Times,serif\" font-size=\"14.00\">2014</text>\n",
       "<polygon fill=\"none\" stroke=\"black\" points=\"698.082,-125 698.082,-150 715.082,-150 715.082,-125 698.082,-125\"/>\n",
       "<text text-anchor=\"start\" x=\"703.082\" y=\"-133.8\" font-family=\"Times,serif\" font-size=\"14.00\">2</text>\n",
       "<polygon fill=\"#eeeeee\" stroke=\"none\" points=\"642.082,-100 642.082,-125 698.082,-125 698.082,-100 642.082,-100\"/>\n",
       "<polygon fill=\"none\" stroke=\"black\" points=\"642.082,-100 642.082,-125 698.082,-125 698.082,-100 642.082,-100\"/>\n",
       "<text text-anchor=\"start\" x=\"654.582\" y=\"-108.8\" font-family=\"Times,serif\" font-size=\"14.00\">comb</text>\n",
       "<polygon fill=\"none\" stroke=\"black\" points=\"698.082,-100 698.082,-125 715.082,-125 715.082,-100 698.082,-100\"/>\n",
       "<text text-anchor=\"start\" x=\"703.082\" y=\"-108.8\" font-family=\"Times,serif\" font-size=\"14.00\">3</text>\n",
       "<polygon fill=\"none\" stroke=\"black\" points=\"642.082,-75 642.082,-100 715.082,-100 715.082,-75 642.082,-75\"/>\n",
       "<text text-anchor=\"start\" x=\"654.082\" y=\"-83.8\" font-family=\"Arial Black\" font-size=\"14.00\"> Edges </text>\n",
       "<polygon fill=\"none\" stroke=\"black\" points=\"642.082,-50 642.082,-75 698.082,-75 698.082,-50 642.082,-50\"/>\n",
       "<text text-anchor=\"start\" x=\"647.082\" y=\"-58.8\" font-family=\"Times,serif\" font-size=\"14.00\" fill=\"#0000ff\">overlaps</text>\n",
       "<polygon fill=\"none\" stroke=\"black\" points=\"698.082,-50 698.082,-75 715.082,-75 715.082,-50 698.082,-50\"/>\n",
       "<text text-anchor=\"start\" x=\"703.082\" y=\"-58.8\" font-family=\"Times,serif\" font-size=\"14.00\">1</text>\n",
       "<polygon fill=\"none\" stroke=\"black\" points=\"642.082,-25 642.082,-50 698.082,-50 698.082,-25 642.082,-25\"/>\n",
       "<text text-anchor=\"start\" x=\"656.082\" y=\"-33.8\" font-family=\"Times,serif\" font-size=\"14.00\" fill=\"#000000\">input</text>\n",
       "<polygon fill=\"none\" stroke=\"black\" points=\"698.082,-25 698.082,-50 715.082,-50 715.082,-25 698.082,-25\"/>\n",
       "<text text-anchor=\"start\" x=\"703.082\" y=\"-33.8\" font-family=\"Times,serif\" font-size=\"14.00\">5</text>\n",
       "<polygon fill=\"none\" stroke=\"black\" points=\"642.082,-0 642.082,-25 698.082,-25 698.082,-0 642.082,-0\"/>\n",
       "<text text-anchor=\"start\" x=\"648.582\" y=\"-8.8\" font-family=\"Times,serif\" font-size=\"14.00\" fill=\"#ff0000\">inferred</text>\n",
       "<polygon fill=\"none\" stroke=\"black\" points=\"698.082,-0 698.082,-25 715.082,-25 715.082,-0 698.082,-0\"/>\n",
       "<text text-anchor=\"start\" x=\"703.082\" y=\"-8.8\" font-family=\"Times,serif\" font-size=\"14.00\">2</text>\n",
       "</g>\n",
       "</g>\n",
       "</svg>\n"
      ]
     },
     "execution_count": 20,
     "metadata": {},
     "output_type": "execute_result"
    },
    {
     "data": {
      "image/svg+xml": [
"<?xml version=\"1.0\" encoding=\"UTF-8\" standalone=\"no\"?>
"<!DOCTYPE svg PUBLIC \"-//W3C//DTD SVG 1.1//EN\"
" \"http://www.w3.org/Graphics/SVG/1.1/DTD/svg11.dtd\">\n"
"<!-- Generated by graphviz version 2.38.0 (20140413.2041)\n"
" -->\n"
"<!-- Title: %3 Pages: 1 -->\n"
"<svg width=\"660pt\" height=\"519pt\"\n"
" viewBox=\"0.00 0.00 660.30 518.61\" xmlns=\"http://www.w3.org/2000/svg\" xmlns:xlink=\"http://www.w3.org/1999/xlink\">\n"
"<g id=\"graph0\" class=\"graph\" transform=\"scale(1 1) rotate(0) translate(4 514.608)\">\n"
"<title>%3</title>\n"
"<polygon fill=\"white\" stroke=\"none\" points=\"-4,4 -4,-514.608 656.304,-514.608 656.304,4 -4,4\"/>\n"
"<!-- CEN.Northeast -->\n"
"<g id=\"node1\" class=\"node\"><title>CEN.Northeast</title>\n"
"<polygon fill=\"#ccffcc\" stroke=\"black\" points=\"348,-487.853 241,-487.853 241,-451.853 348,-451.853 348,-487.853\"/>\n"
"<text text-anchor=\"middle\" x=\"294.5\" y=\"-466.153\" font-family=\"Helvetica,sans-Serif\" font-size=\"14.00\">CEN.Northeast</text>\n"
"</g>\n"
"<!-- TZ.Eastern -->\n"
"<g id=\"node7\" class=\"node\"><title>TZ.Eastern</title>\n"
"<polygon fill=\"#ffffcc\" stroke=\"black\" points=\"516.705,-339.397 516.705,-354.309 482.565,-364.853 434.284,-364.853 400.145,-354.309 400.145,-339.397 434.284,-328.853 482.565,-328.853 516.705,-339.397\"/>\n"
"<text text-anchor=\"middle\" x=\"458.425\" y=\"-343.153\" font-family=\"Helvetica,sans-Serif\" font-size=\"14.00\">TZ.Eastern</text>\n"
"</g>\n"
"<!-- CEN.Northeast&#45;&gt;TZ.Eastern -->\n"
"<g id=\"edge13\" class=\"edge\"><title>CEN.Northeast&#45;&gt;TZ.Eastern</title>\n"
"<path fill=\"none\" stroke=\"#000000\" d=\"M348.142,-452.603C357.479,-448.462 366.822,-443.554 375,-437.853 400.4,-420.149 423.511,-393.24 438.754,-373.271\"/>\n"
"<polygon fill=\"#000000\" stroke=\"#000000\" points=\"441.613,-375.292 444.789,-365.184 436.003,-371.105 441.613,-375.292\"/>\n"
"<text text-anchor=\"middle\" x=\"370.5\" y=\"-446.653\" font-family=\"Times,serif\" font-size=\"14.00\">&lt;</text>\n"
"</g>\n"
"<!-- CEN.Midwest -->\n"
"<g id=\"node2\" class=\"node\"><title>CEN.Midwest</title>\n"
"<polygon fill=\"#ccffcc\" stroke=\"black\" points=\"344,-415.853 245,-415.853 245,-379.853 344,-379.853 344,-415.853\"/>\n"
"<text text-anchor=\"middle\" x=\"294.5\" y=\"-394.153\" font-family=\"Helvetica,sans-Serif\" font-size=\"14.00\">CEN.Midwest</text>\n"
"</g>\n"
"<!-- CEN.Midwest&#45;&gt;TZ.Eastern -->\n"
"<g id=\"edge18\" class=\"edge\"><title>CEN.Midwest&#45;&gt;TZ.Eastern</title>\n"
"<path fill=\"none\" stroke=\"#000000\" d=\"M333.246,-415.872C346.635,-419.918 361.679,-421.746 375,-416.853 399.08,-408.008 420.936,-388.663 436.083,-372.546\"/>\n"
"<polygon fill=\"#000000\" stroke=\"#000000\" points=\"438.841,-374.715 442.96,-364.954 433.652,-370.016 438.841,-374.715\"/>\n"
"<text text-anchor=\"middle\" x=\"370.5\" y=\"-422.653\" font-family=\"Times,serif\" font-size=\"14.00\">o</text>\n"
"</g>\n"
"<!-- TZ.Mountain -->\n"
"<g id=\"node8\" class=\"node\"><title>TZ.Mountain</title>\n"
"<polygon fill=\"#ffffcc\" stroke=\"black\" points=\"523.774,-186.397 523.774,-201.309 485.494,-211.853 431.356,-211.853 393.075,-201.309 393.075,-186.397 431.356,-175.853 485.494,-175.853 523.774,-186.397\"/>\n"
"<text text-anchor=\"middle\" x=\"458.425\" y=\"-190.153\" font-family=\"Helvetica,sans-Serif\" font-size=\"14.00\">TZ.Mountain</text>\n"
"</g>\n"
"<!-- CEN.Midwest&#45;&gt;TZ.Mountain -->\n"
"<g id=\"edge14\" class=\"edge\"><title>CEN.Midwest&#45;&gt;TZ.Mountain</title>\n"
"<path fill=\"none\" stroke=\"#000000\" d=\"M301.545,-379.543C311.544,-351.279 333.683,-296.371 366,-258.853 380.504,-242.016 400.242,-227.274 417.667,-216.105\"/>\n"
"<polygon fill=\"#000000\" stroke=\"#000000\" points=\"419.883,-218.849 426.529,-210.598 416.188,-212.904 419.883,-218.849\"/>\n"
"<text text-anchor=\"middle\" x=\"370.5\" y=\"-262.653\" font-family=\"Times,serif\" font-size=\"14.00\">o</text>\n"
"</g>\n"
"<!-- TZ.Pacific -->\n"
"<g id=\"node9\" class=\"node\"><title>TZ.Pacific</title>\n"
"<polygon fill=\"#ffffcc\" stroke=\"black\" points=\"512.763,-288.397 512.763,-303.309 480.932,-313.853 435.917,-313.853 404.086,-303.309 404.086,-288.397 435.917,-277.853 480.932,-277.853 512.763,-288.397\"/>\n"
"<text text-anchor=\"middle\" x=\"458.425\" y=\"-292.153\" font-family=\"Helvetica,sans-Serif\" font-size=\"14.00\">TZ.Pacific</text>\n"
"</g>\n"
"<!-- CEN.Midwest&#45;&gt;TZ.Pacific -->\n"
"<g id=\"edge17\" class=\"edge\"><title>CEN.Midwest&#45;&gt;TZ.Pacific</title>\n"
"<path fill=\"none\" stroke=\"#000000\" d=\"M344.271,-385.441C355.447,-380.764 366.52,-374.416 375,-365.853 390.448,-350.255 377.35,-335.249 393,-319.853 396.435,-316.474 400.39,-313.563 404.614,-311.058\"/>\n"
"<polygon fill=\"#000000\" stroke=\"#000000\" points=\"406.278,-314.138 413.583,-306.464 403.087,-307.907 406.278,-314.138\"/>\n"
"<text text-anchor=\"middle\" x=\"370.5\" y=\"-377.653\" font-family=\"Times,serif\" font-size=\"14.00\">!</text>\n"
"</g>\n"
"<!-- CEN.South -->\n"
"<g id=\"node3\" class=\"node\"><title>CEN.South</title>\n"
"<polygon fill=\"#ccffcc\" stroke=\"black\" points=\"336.5,-211.853 252.5,-211.853 252.5,-175.853 336.5,-175.853 336.5,-211.853\"/>\n"
"<text text-anchor=\"middle\" x=\"294.5\" y=\"-190.153\" font-family=\"Helvetica,sans-Serif\" font-size=\"14.00\">CEN.South</text>\n"
"</g>\n"
"<!-- CEN.South&#45;&gt;TZ.Eastern -->\n"
"<g id=\"edge19\" class=\"edge\"><title>CEN.South&#45;&gt;TZ.Eastern</title>\n"
"<path fill=\"none\" stroke=\"#000000\" d=\"M301.527,-212.149C311.105,-238.494 332.247,-286.998 366,-314.853 375.62,-322.793 387.34,-328.818 399.136,-333.371\"/>\n"
"<polygon fill=\"#000000\" stroke=\"#000000\" points=\"397.979,-336.674 408.574,-336.716 400.318,-330.076 397.979,-336.674\"/>\n"
"<text text-anchor=\"middle\" x=\"370.5\" y=\"-325.653\" font-family=\"Times,serif\" font-size=\"14.00\">o</text>\n"
"</g>\n"
"<!-- CEN.South&#45;&gt;TZ.Mountain -->\n"
"<g id=\"edge12\" class=\"edge\"><title>CEN.South&#45;&gt;TZ.Mountain</title>\n"
"<path fill=\"none\" stroke=\"#000000\" d=\"M322.388,-175.811C335.046,-168.374 350.7,-160.624 366,-156.853 386.528,-151.794 408.523,-160.223 425.794,-170.305\"/>\n"
"<polygon fill=\"#000000\" stroke=\"#000000\" points=\"424.028,-173.329 434.362,-175.666 427.741,-167.395 424.028,-173.329\"/>\n"
"<text text-anchor=\"middle\" x=\"370.5\" y=\"-160.653\" font-family=\"Times,serif\" font-size=\"14.00\">o</text>\n"
"</g>\n"
"<!-- CEN.South&#45;&gt;TZ.Pacific -->\n"
"<g id=\"edge15\" class=\"edge\"><title>CEN.South&#45;&gt;TZ.Pacific</title>\n"
"<path fill=\"none\" stroke=\"#000000\" d=\"M336.798,-196.042C349.619,-198.028 363.415,-201.581 375,-207.853 389.408,-215.654 417.016,-246.82 436.293,-269.859\"/>\n"
"<polygon fill=\"#000000\" stroke=\"#000000\" points=\"433.651,-272.155 442.729,-277.618 439.038,-267.686 433.651,-272.155\"/>\n"
"<text text-anchor=\"middle\" x=\"370.5\" y=\"-211.653\" font-family=\"Times,serif\" font-size=\"14.00\">!</text>\n"
"</g>\n"
"<!-- TZ.Central -->\n"
"<g id=\"node10\" class=\"node\"><title>TZ.Central</title>\n"
"<polygon fill=\"#ffffcc\" stroke=\"black\" points=\"514.484,-84.3975 514.484,-99.3092 481.645,-109.853 435.204,-109.853 402.365,-99.3092 402.365,-84.3975 435.204,-73.8533 481.645,-73.8533 514.484,-84.3975\"/>\n"
"<text text-anchor=\"middle\" x=\"458.425\" y=\"-88.1533\" font-family=\"Helvetica,sans-Serif\" font-size=\"14.00\">TZ.Central</text>\n"
"</g>\n"
"<!-- CEN.South&#45;&gt;TZ.Central -->\n"
"<g id=\"edge16\" class=\"edge\"><title>CEN.South&#45;&gt;TZ.Central</title>\n"
"<path fill=\"none\" stroke=\"#000000\" d=\"M315.56,-175.62C329.193,-163.747 347.963,-148.38 366,-136.853 381.061,-127.229 398.473,-118.192 414.036,-110.778\"/>\n"
"<polygon fill=\"#000000\" stroke=\"#000000\" points=\"415.87,-113.784 423.449,-106.381 412.907,-107.442 415.87,-113.784\"/>\n"
"<text text-anchor=\"middle\" x=\"370.5\" y=\"-140.653\" font-family=\"Times,serif\" font-size=\"14.00\">o</text>\n"
"</g>\n"
"<!-- CEN.USA -->\n"
"<g id=\"node4\" class=\"node\"><title>CEN.USA</title>\n"
"<polygon fill=\"#ccffcc\" stroke=\"black\" points=\"204,-415.853 127,-415.853 127,-379.853 204,-379.853 204,-415.853\"/>\n"
"<text text-anchor=\"middle\" x=\"165.5\" y=\"-394.153\" font-family=\"Helvetica,sans-Serif\" font-size=\"14.00\">CEN.USA</text>\n"
"</g>\n"
"<!-- CEN.USA&#45;&gt;CEN.Northeast -->\n"
"<g id=\"edge3\" class=\"edge\"><title>CEN.USA&#45;&gt;CEN.Northeast</title>\n"
"<path fill=\"none\" stroke=\"#000000\" d=\"M207.428,-421.057C224.933,-430.981 245.07,-442.397 261.463,-451.69\"/>\n"
"<polygon fill=\"#000000\" stroke=\"#000000\" points=\"208.973,-417.909 198.547,-416.022 205.521,-423.999 208.973,-417.909\"/>\n"
"</g>\n"
"<!-- CEN.USA&#45;&gt;CEN.Midwest -->\n"
"<g id=\"edge1\" class=\"edge\"><title>CEN.USA&#45;&gt;CEN.Midwest</title>\n"
"<path fill=\"none\" stroke=\"#000000\" d=\"M214.387,-397.853C224.336,-397.853 234.831,-397.853 244.808,-397.853\"/>\n"
"<polygon fill=\"#000000\" stroke=\"#000000\" points=\"214.26,-394.353 204.26,-397.853 214.26,-401.353 214.26,-394.353\"/>\n"
"</g>\n"
"<!-- CEN.USA&#45;&gt;CEN.South -->\n"
"<g id=\"edge4\" class=\"edge\"><title>CEN.USA&#45;&gt;CEN.South</title>\n"
"<path fill=\"none\" stroke=\"#000000\" d=\"M183.144,-371.118C209.418,-328.914 259.823,-247.949 282.255,-211.916\"/>\n"
"<polygon fill=\"#000000\" stroke=\"#000000\" points=\"180.084,-369.411 177.77,-379.75 186.027,-373.11 180.084,-369.411\"/>\n"
"</g>\n"
"<!-- CEN.West -->\n"
"<g id=\"node5\" class=\"node\"><title>CEN.West</title>\n"
"<polygon fill=\"#ccffcc\" stroke=\"black\" points=\"334.5,-114.853 254.5,-114.853 254.5,-78.8533 334.5,-78.8533 334.5,-114.853\"/>\n"
"<text text-anchor=\"middle\" x=\"294.5\" y=\"-93.1533\" font-family=\"Helvetica,sans-Serif\" font-size=\"14.00\">CEN.West</text>\n"
"</g>\n"
"<!-- CEN.USA&#45;&gt;CEN.West -->\n"
"<g id=\"edge2\" class=\"edge\"><title>CEN.USA&#45;&gt;CEN.West</title>\n"
"<path fill=\"none\" stroke=\"#000000\" d=\"M172.367,-369.821C182.404,-325.142 205.307,-235.793 241,-166.853 250.848,-147.832 265.774,-128.529 277.197,-115.024\"/>\n"
"<polygon fill=\"#000000\" stroke=\"#000000\" points=\"168.93,-369.154 170.201,-379.672 175.767,-370.657 168.93,-369.154\"/>\n"
"</g>\n"
"<!-- TZ.USA -->\n"
"<g id=\"node6\" class=\"node\"><title>TZ.USA</title>\n"
"<polygon fill=\"#ffffcc\" stroke=\"black\" points=\"652.532,-288.397 652.532,-303.309 625.612,-313.853 587.541,-313.853 560.621,-303.309 560.621,-288.397 587.541,-277.853 625.612,-277.853 652.532,-288.397\"/>\n"
"<text text-anchor=\"middle\" x=\"606.577\" y=\"-292.153\" font-family=\"Helvetica,sans-Serif\" font-size=\"14.00\">TZ.USA</text>\n"
"</g>\n"
"<!-- CEN.USA&#45;&gt;TZ.USA -->\n"
"<g id=\"edge20\" class=\"edge\"><title>CEN.USA&#45;&gt;TZ.USA</title>\n"
"<path fill=\"none\" stroke=\"#000000\" d=\"M173.855,-415.863C184.615,-439.496 207.125,-479.95 241,-496.853 283.552,-518.086 302.642,-511.142 348,-496.853 451.35,-464.296 543.885,-368.405 584.197,-321.829\"/>\n"
"<polygon fill=\"#000000\" stroke=\"#000000\" points=\"587.052,-323.875 590.884,-313.998 581.729,-319.33 587.052,-323.875\"/>\n"
"<text text-anchor=\"middle\" x=\"370.5\" y=\"-493.653\" font-family=\"Times,serif\" font-size=\"14.00\">=</text>\n"
"</g>\n"
"<!-- CEN.West&#45;&gt;TZ.Eastern -->\n"
"<g id=\"edge9\" class=\"edge\"><title>CEN.West&#45;&gt;TZ.Eastern</title>\n"
"<path fill=\"none\" stroke=\"#000000\" d=\"M312.907,-114.906C324.703,-128.205 339.619,-147.307 348,-166.853 367.005,-211.174 350.139,-228.313 366,-273.853 370.089,-285.594 383.587,-314.732 393,-322.853 396.396,-325.783 400.183,-328.37 404.173,-330.652\"/>\n"
"<polygon fill=\"#000000\" stroke=\"#000000\" points=\"402.654,-333.805 413.16,-335.173 405.8,-327.552 402.654,-333.805\"/>\n"
"<text text-anchor=\"middle\" x=\"370.5\" y=\"-299.653\" font-family=\"Times,serif\" font-size=\"14.00\">!</text>\n"
"</g>\n"
"<!-- CEN.West&#45;&gt;TZ.Mountain -->\n"
"<g id=\"edge10\" class=\"edge\"><title>CEN.West&#45;&gt;TZ.Mountain</title>\n"
"<path fill=\"none\" stroke=\"#000000\" d=\"M310.712,-78.8095C327.378,-61.244 354.47,-39.3006 375,-54.8533 398.553,-72.6957 379.044,-92.809 393,-118.853 402.692,-136.939 417.38,-154.488 430.285,-168.058\"/>\n"
"<polygon fill=\"#000000\" stroke=\"#000000\" points=\"428.131,-170.861 437.626,-175.561 433.134,-165.966 428.131,-170.861\"/>\n"
"<text text-anchor=\"middle\" x=\"370.5\" y=\"-58.6533\" font-family=\"Times,serif\" font-size=\"14.00\">o</text>\n"
"</g>\n"
"<!-- CEN.West&#45;&gt;TZ.Central -->\n"
"<g id=\"edge11\" class=\"edge\"><title>CEN.West&#45;&gt;TZ.Central</title>\n"
"<path fill=\"none\" stroke=\"#000000\" d=\"M303.028,-78.7824C313.449,-56.4367 334.609,-19.4479 366,-3.85331 399.972,13.0239 429.605,-32.6136 445.367,-64.3054\"/>\n"
"<polygon fill=\"#000000\" stroke=\"#000000\" points=\"442.34,-66.0883 449.803,-73.6084 448.658,-63.0756 442.34,-66.0883\"/>\n"
"<text text-anchor=\"middle\" x=\"370.5\" y=\"-7.65331\" font-family=\"Times,serif\" font-size=\"14.00\">!</text>\n"
"</g>\n"
"<!-- TZ.Eastern&#45;&gt;TZ.USA -->\n"
"<g id=\"edge6\" class=\"edge\"><title>TZ.Eastern&#45;&gt;TZ.USA</title>\n"
"<path fill=\"none\" stroke=\"#000000\" d=\"M497.824,-333.454C517.448,-326.606 541.416,-318.242 561.759,-311.143\"/>\n"
"<polygon fill=\"#000000\" stroke=\"#000000\" points=\"563.132,-314.372 571.42,-307.772 560.825,-307.762 563.132,-314.372\"/>\n"
"</g>\n"
"<!-- TZ.Mountain&#45;&gt;TZ.USA -->\n"
"<g id=\"edge7\" class=\"edge\"><title>TZ.Mountain&#45;&gt;TZ.USA</title>\n"
"<path fill=\"none\" stroke=\"#000000\" d=\"M485.217,-211.854C510.063,-229.194 547.688,-255.453 574.245,-273.987\"/>\n"
"<polygon fill=\"#000000\" stroke=\"#000000\" points=\"572.245,-276.859 582.449,-279.712 576.251,-271.119 572.245,-276.859\"/>\n"
"</g>\n"
"<!-- TZ.Pacific&#45;&gt;TZ.USA -->\n"
"<g id=\"edge5\" class=\"edge\"><title>TZ.Pacific&#45;&gt;TZ.USA</title>\n"
"<path fill=\"none\" stroke=\"#000000\" d=\"M512.602,-295.853C524.845,-295.853 537.894,-295.853 550.227,-295.853\"/>\n"
"<polygon fill=\"#000000\" stroke=\"#000000\" points=\"550.384,-299.353 560.384,-295.853 550.384,-292.353 550.384,-299.353\"/>\n"
"</g>\n"
"<!-- TZ.Central&#45;&gt;TZ.USA -->\n"
"<g id=\"edge8\" class=\"edge\"><title>TZ.Central&#45;&gt;TZ.USA</title>\n"
"<path fill=\"none\" stroke=\"#000000\" d=\"M476.353,-110.035C489.823,-124.853 508.837,-146.572 523.85,-166.853 548.965,-200.784 574.455,-242.411 590.137,-269.034\"/>\n"
"<polygon fill=\"#000000\" stroke=\"#000000\" points=\"587.188,-270.924 595.258,-277.788 593.23,-267.389 587.188,-270.924\"/>\n"
"</g>\n"
"<!-- Legend -->\n"
"<g id=\"node11\" class=\"node\"><title>Legend</title>\n"
"<polygon fill=\"white\" stroke=\"black\" points=\"109,-485.353 0,-485.353 0,-310.353 109,-310.353 109,-485.353\"/>\n"
"<polygon fill=\"none\" stroke=\"black\" points=\"0.5,-459.853 0.5,-484.853 109.5,-484.853 109.5,-459.853 0.5,-459.853\"/>\n"
"<text text-anchor=\"start\" x=\"30.5\" y=\"-468.653\" font-family=\"Arial Black\" font-size=\"14.00\"> Nodes</text>\n"
"<polygon fill=\"#ccffcc\" stroke=\"none\" points=\"0.5,-434.853 0.5,-459.853 83.5,-459.853 83.5,-434.853 0.5,-434.853\"/>\n"
"<polygon fill=\"none\" stroke=\"black\" points=\"0.5,-434.853 0.5,-459.853 83.5,-459.853 83.5,-434.853 0.5,-434.853\"/>\n"
"<text text-anchor=\"start\" x=\"27.5\" y=\"-443.653\" font-family=\"Helvetica,sans-Serif\" font-size=\"14.00\">CEN</text>\n"
"<polygon fill=\"none\" stroke=\"black\" points=\"83.5,-434.853 83.5,-459.853 109.5,-459.853 109.5,-434.853 83.5,-434.853\"/>\n"
"<text text-anchor=\"start\" x=\"92.5\" y=\"-443.653\" font-family=\"Helvetica,sans-Serif\" font-size=\"14.00\">5</text>\n"
"<polygon fill=\"#ffffcc\" stroke=\"none\" points=\"0.5,-409.853 0.5,-434.853 83.5,-434.853 83.5,-409.853 0.5,-409.853\"/>\n"
"<polygon fill=\"none\" stroke=\"black\" points=\"0.5,-409.853 0.5,-434.853 83.5,-434.853 83.5,-409.853 0.5,-409.853\"/>\n"
"<text text-anchor=\"start\" x=\"33.5\" y=\"-418.653\" font-family=\"Helvetica,sans-Serif\" font-size=\"14.00\">TZ</text>\n"
"<polygon fill=\"none\" stroke=\"black\" points=\"83.5,-409.853 83.5,-434.853 109.5,-434.853 109.5,-409.853 83.5,-409.853\"/>\n"
"<text text-anchor=\"start\" x=\"92.5\" y=\"-418.653\" font-family=\"Helvetica,sans-Serif\" font-size=\"14.00\">5</text>\n"
"<polygon fill=\"none\" stroke=\"black\" points=\"0.5,-384.853 0.5,-409.853 109.5,-409.853 109.5,-384.853 0.5,-384.853\"/>\n"
"<text text-anchor=\"start\" x=\"29\" y=\"-393.653\" font-family=\"Arial Black\" font-size=\"14.00\"> Edges </text>\n"
"<polygon fill=\"none\" stroke=\"black\" points=\"0.5,-359.853 0.5,-384.853 83.5,-384.853 83.5,-359.853 0.5,-359.853\"/>\n"
"<text text-anchor=\"start\" x=\"8.5\" y=\"-368.653\" font-family=\"Helvetica,sans-Serif\" font-size=\"14.00\" fill=\"#000000\">is_a (CEN)</text>\n"
"<polygon fill=\"none\" stroke=\"black\" points=\"83.5,-359.853 83.5,-384.853 109.5,-384.853 109.5,-359.853 83.5,-359.853\"/>\n"
"<text text-anchor=\"start\" x=\"92.5\" y=\"-368.653\" font-family=\"Helvetica,sans-Serif\" font-size=\"14.00\">4</text>\n"
"<polygon fill=\"none\" stroke=\"black\" points=\"0.5,-334.853 0.5,-359.853 83.5,-359.853 83.5,-334.853 0.5,-334.853\"/>\n"
"<text text-anchor=\"start\" x=\"14.5\" y=\"-343.653\" font-family=\"Helvetica,sans-Serif\" font-size=\"14.00\" fill=\"#000000\">is_a (TZ)</text>\n"
"<polygon fill=\"none\" stroke=\"black\" points=\"83.5,-334.853 83.5,-359.853 109.5,-359.853 109.5,-334.853 83.5,-334.853\"/>\n"
"<text text-anchor=\"start\" x=\"92.5\" y=\"-343.653\" font-family=\"Helvetica,sans-Serif\" font-size=\"14.00\">4</text>\n"
"<polygon fill=\"none\" stroke=\"black\" points=\"0.5,-309.853 0.5,-334.853 83.5,-334.853 83.5,-309.853 0.5,-309.853\"/>\n"
"<text text-anchor=\"start\" x=\"5.5\" y=\"-318.653\" font-family=\"Helvetica,sans-Serif\" font-size=\"14.00\" fill=\"#aa00ff\">articulations</text>\n"
"<polygon fill=\"none\" stroke=\"black\" points=\"83.5,-309.853 83.5,-334.853 109.5,-334.853 109.5,-309.853 83.5,-309.853\"/>\n"
"<text text-anchor=\"start\" x=\"88.5\" y=\"-318.653\" font-family=\"Helvetica,sans-Serif\" font-size=\"14.00\">12</text>\n"
"</g>\n"
"</g>\n"
"</svg>\n"
      ]
     },
     "execution_count": 20,
     "metadata": {},
     "output_type": "execute_result"
    }
   ],
   "source": [
    "graph worlds"
   ]
  }
 ],
 "metadata": {
  "kernelspec": {
   "display_name": "e3",
   "language": "e3",
   "name": "e3-kernel"
  },
  "language_info": {
   "codemirror_mode": "",
   "file_extension": ".py",
   "mimetype": "",
   "name": "e3",
   "nbconvert_exporter": "",
   "pygments_lexer": "",
   "version": "1.0"
  }
 },
 "nbformat": 4,
 "nbformat_minor": 2
}
